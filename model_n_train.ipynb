{
 "cells": [
  {
   "cell_type": "code",
   "execution_count": 1,
   "id": "8970e3a1",
   "metadata": {},
   "outputs": [],
   "source": [
    "# import dtale\n",
    "import os\n",
    "import pandas as pd\n",
    "import numpy as np\n",
    "from sklearn.impute import KNNImputer\n",
    "from sklearn.decomposition import PCA\n",
    "from sklearn.ensemble import IsolationForest"
   ]
  },
  {
   "cell_type": "code",
   "execution_count": 2,
   "id": "198169a6",
   "metadata": {},
   "outputs": [
    {
     "name": "stdout",
     "output_type": "stream",
     "text": [
      "C:\\ALEX\\Kaggle\\space_titanic\n",
      "C:\\ALEX\\Kaggle\\space_titanic\\..\\Spaceship Titanic\\space_titanic_data\n"
     ]
    }
   ],
   "source": [
    "print(os.getcwd())\n",
    "dpath = os.path.join(os.getcwd(), \"..\\\\Spaceship Titanic\\\\space_titanic_data\")\n",
    "print(dpath)"
   ]
  },
  {
   "cell_type": "code",
   "execution_count": 3,
   "id": "4a26dc2c",
   "metadata": {},
   "outputs": [
    {
     "name": "stdout",
     "output_type": "stream",
     "text": [
      "['C:\\\\ALEX\\\\Kaggle\\\\space_titanic\\\\..\\\\Spaceship Titanic\\\\space_titanic_data\\\\sample_submission.csv', 'C:\\\\ALEX\\\\Kaggle\\\\space_titanic\\\\..\\\\Spaceship Titanic\\\\space_titanic_data\\\\test.csv', 'C:\\\\ALEX\\\\Kaggle\\\\space_titanic\\\\..\\\\Spaceship Titanic\\\\space_titanic_data\\\\train.csv']\n"
     ]
    }
   ],
   "source": [
    "files1 = os.listdir(dpath)\n",
    "files2 = [os.path.join(dpath, f) for f in files1]\n",
    "files = [f for f in files2 if os.path.isfile(f)]\n",
    "print(files)"
   ]
  },
  {
   "cell_type": "markdown",
   "id": "0b8ba924",
   "metadata": {},
   "source": [
    "## Preprocess Functions\n",
    "\n",
    "### Transfer all to ONE HOT ENCODER and Cabin break down to 3 types of data\n",
    "### Missing cost values are set to 0"
   ]
  },
  {
   "cell_type": "code",
   "execution_count": 4,
   "id": "df0a8462",
   "metadata": {},
   "outputs": [],
   "source": [
    "def get_train_data_transform_rev1():\n",
    "    df_ = pd.read_csv(files[2])  # the training data\n",
    "    dft_ = transform_data(df_)\n",
    "    df_id = dft_.loc[:, dft_.columns == 'PassengerId']\n",
    "    dfd_ = dft_.loc[:, dft_.columns != 'PassengerId']  # passanger id should not be input for training\n",
    "    X = dfd_.loc[:, dfd_.columns != 'Transported']\n",
    "    Y = dfd_[['Transported']]    \n",
    "    return X, Y, df_id\n",
    "\n",
    "def get_train_data_transform_rev2():\n",
    "    df_ = pd.read_csv(files[2])  # the training data\n",
    "    dft_ = transform_data_rev2(df_)\n",
    "    df_id = dft_.loc[:, dft_.columns == 'PassengerId']\n",
    "    dfd_ = dft_.loc[:, dft_.columns != 'PassengerId']  # passanger id should not be input for training\n",
    "    X = dfd_.loc[:, dfd_.columns != 'Transported']\n",
    "    Y = dfd_[['Transported']]    \n",
    "    return X, Y, df_id\n",
    "\n",
    "def get_test_data_transform_rev1():\n",
    "    df_ = pd.read_csv(files[1])  # the test data\n",
    "    dft_ = transform_data(df_)\n",
    "    df_id = dft_.loc[:, dft_.columns == 'PassengerId']\n",
    "    X = dft_.loc[:, dft_.columns != 'PassengerId']  # passanger id should not be input for training\n",
    "    return X, df_id\n",
    "\n",
    "def get_test_data_transform_rev2():\n",
    "    df_ = pd.read_csv(files[1])  # the test data\n",
    "    dft_ = transform_data_rev2(df_)\n",
    "    df_id = dft_.loc[:, dft_.columns == 'PassengerId']\n",
    "    X = dft_.loc[:, dft_.columns != 'PassengerId']  # passanger id should not be input for training\n",
    "    return X, df_id"
   ]
  },
  {
   "cell_type": "code",
   "execution_count": 5,
   "id": "c5ece63b",
   "metadata": {},
   "outputs": [],
   "source": [
    "def transform_data(df_):\n",
    "    df = df_.copy()\n",
    "    \n",
    "    df['Home_Earth'] = df.apply(lambda row: 1 if row['HomePlanet'] == 'Earth' else 0, axis=1)\n",
    "    df['Home_Europa'] = df.apply(lambda row: 1 if row['HomePlanet'] == 'Europa' else 0, axis=1)\n",
    "    df['Home_Mars'] = df.apply(lambda row: 1 if row['HomePlanet'] == 'Mars' else 0, axis=1)\n",
    "    df['cryo_sleep_true'] = df.apply(lambda row: 1 if row['CryoSleep'] == True else 0, axis=1)\n",
    "    df['cryo_sleep_false'] = df.apply(lambda row: 1 if row['CryoSleep'] == False else 0, axis=1)    \n",
    "    df['destination_cancri'] = df.apply(lambda row: 1 if row['Destination'] == '55 Cancri e' else 0, axis=1)\n",
    "    df['destination_pso'] = df.apply(lambda row: 1 if row['Destination'] == 'PSO J318.5-22' else 0, axis=1)\n",
    "    df['destination_trappist'] = df.apply(lambda row: 1 if row['Destination'] == 'TRAPPIST-1e' else 0, axis=1)    \n",
    "    df['vip_true'] = df.apply(lambda row: 1 if row['VIP'] == True else 0, axis=1)\n",
    "    df['vip_false'] = df.apply(lambda row: 1 if row['VIP'] == False else 0, axis=1)    \n",
    "    \n",
    "    ccc = df['Cabin'].str.split(\"/\").values\n",
    "    c = [k[0] for k in ccc if type(k) == list]\n",
    "    cc = list(set(c))\n",
    "    cc.sort()\n",
    "    cc_d = {cc[i]:(i+1) for i in range(len(cc))}\n",
    "    s = [k[2] for k in ccc if type(k) == list]\n",
    "    ss = list(set(s))\n",
    "    ss.sort()\n",
    "    ss_d = {ss[i]:(i+1) for i in range(len(ss))}\n",
    "    df['cabin_row_'] = df.apply(lambda row: cc_d[row['Cabin'].split(\"/\")[0]] if type(row['Cabin']) == str else 0, axis=1)\n",
    "    m = max(df['cabin_row_'].values)\n",
    "    df['cabin_row'] = df['cabin_row_'] / m\n",
    "    df['cabin_t'] = df.apply(lambda row: 1 if type(row['Cabin']) == str and row['Cabin'].split(\"/\")[0] == 'T' else 0, axis=1)\n",
    "    df['cabin_num_'] = df.apply(lambda row: int(row['Cabin'].split(\"/\")[1]) if type(row['Cabin']) == str else 0, axis=1)\n",
    "    m = max(df['cabin_num_'].values)\n",
    "    df['cabin_num'] = df['cabin_num_'] / m\n",
    "    df['cabin_side_'] = df.apply(lambda row: ss_d[row['Cabin'].split(\"/\")[2]] if type(row['Cabin']) == str else 0, axis=1)    \n",
    "    m = max(df['cabin_side_'].values)\n",
    "    df['cabin_side'] = df['cabin_side_'] / m\n",
    "    df = df.drop(['cabin_row_', 'cabin_num_', 'cabin_side_'], axis=1)\n",
    "    \n",
    "    max_age = max(df['Age'].values)\n",
    "    df['age_norm'] = df.apply(lambda row: row['Age']/max_age if not pd.isnull(row['Age']) else 0, axis=1)    \n",
    "    dfc = df.drop(['HomePlanet', 'CryoSleep', 'Cabin', 'Destination', 'Age', 'VIP'], axis=1)\n",
    "    \n",
    "    dfc['RoomService'].fillna(0, inplace=True)\n",
    "    dfc['roomservice'] = dfc['RoomService'] / max(dfc['RoomService'].values)\n",
    "    dfc['FoodCourt'].fillna(0, inplace=True)\n",
    "    dfc['foodcourt'] = dfc['FoodCourt'] / max(dfc['FoodCourt'].values)\n",
    "    dfc['ShoppingMall'].fillna(0, inplace=True)\n",
    "    dfc['shoppingmall'] = dfc['ShoppingMall'] / max(dfc['ShoppingMall'].values)\n",
    "    dfc['Spa'].fillna(0, inplace=True)\n",
    "    dfc['spa'] = dfc['Spa'] / max(dfc['Spa'].values)\n",
    "    dfc['VRDeck'].fillna(0, inplace=True)\n",
    "    dfc['vrdeck'] = dfc['VRDeck'] / max(dfc['VRDeck'].values)\n",
    "    dfc = dfc.drop(['RoomService', 'FoodCourt', 'ShoppingMall', 'Spa', 'VRDeck', 'Name'], axis=1)\n",
    "    \n",
    "    return dfc"
   ]
  },
  {
   "cell_type": "markdown",
   "id": "8cd2d718",
   "metadata": {},
   "source": [
    "### Same as above but missing costs are imputed using KNN instead of set to 0"
   ]
  },
  {
   "cell_type": "code",
   "execution_count": 6,
   "id": "136804f3",
   "metadata": {},
   "outputs": [],
   "source": [
    "def transform_data_rev2(df_):\n",
    "    df = df_.copy()\n",
    "    \n",
    "    df['Home_Earth'] = df.apply(lambda row: 1 if row['HomePlanet'] == 'Earth' else 0, axis=1)\n",
    "    df['Home_Europa'] = df.apply(lambda row: 1 if row['HomePlanet'] == 'Europa' else 0, axis=1)\n",
    "    df['Home_Mars'] = df.apply(lambda row: 1 if row['HomePlanet'] == 'Mars' else 0, axis=1)\n",
    "    df['cryo_sleep_true'] = df.apply(lambda row: 1 if row['CryoSleep'] == True else 0, axis=1)\n",
    "    df['cryo_sleep_false'] = df.apply(lambda row: 1 if row['CryoSleep'] == False else 0, axis=1)    \n",
    "    df['destination_cancri'] = df.apply(lambda row: 1 if row['Destination'] == '55 Cancri e' else 0, axis=1)\n",
    "    df['destination_pso'] = df.apply(lambda row: 1 if row['Destination'] == 'PSO J318.5-22' else 0, axis=1)\n",
    "    df['destination_trappist'] = df.apply(lambda row: 1 if row['Destination'] == 'TRAPPIST-1e' else 0, axis=1)    \n",
    "    df['vip_true'] = df.apply(lambda row: 1 if row['VIP'] == True else 0, axis=1)\n",
    "    df['vip_false'] = df.apply(lambda row: 1 if row['VIP'] == False else 0, axis=1)    \n",
    "    \n",
    "    ccc = df['Cabin'].str.split(\"/\").values\n",
    "    c = [k[0] for k in ccc if type(k) == list]\n",
    "    cc = list(set(c))\n",
    "    cc.sort()\n",
    "    cc_d = {cc[i]:(i+1) for i in range(len(cc))}\n",
    "    s = [k[2] for k in ccc if type(k) == list]\n",
    "    ss = list(set(s))\n",
    "    ss.sort()\n",
    "    ss_d = {ss[i]:(i+1) for i in range(len(ss))}\n",
    "    df['cabin_row_'] = df.apply(lambda row: cc_d[row['Cabin'].split(\"/\")[0]] if type(row['Cabin']) == str else 0, axis=1)\n",
    "    m = max(df['cabin_row_'].values)\n",
    "    df['cabin_row'] = df['cabin_row_'] / m\n",
    "    df['cabin_t'] = df.apply(lambda row: 1 if type(row['Cabin']) == str and row['Cabin'].split(\"/\")[0] == 'T' else 0, axis=1)\n",
    "    df['cabin_num_'] = df.apply(lambda row: int(row['Cabin'].split(\"/\")[1]) if type(row['Cabin']) == str else 0, axis=1)\n",
    "    m = max(df['cabin_num_'].values)\n",
    "    df['cabin_num'] = df['cabin_num_'] / m\n",
    "    df['cabin_side_'] = df.apply(lambda row: ss_d[row['Cabin'].split(\"/\")[2]] if type(row['Cabin']) == str else 0, axis=1)    \n",
    "    m = max(df['cabin_side_'].values)\n",
    "    df['cabin_side'] = df['cabin_side_'] / m\n",
    "    df = df.drop(['cabin_row_', 'cabin_num_', 'cabin_side_'], axis=1)\n",
    "    \n",
    "    max_age = max(df['Age'].values)\n",
    "    df['age_norm'] = df.apply(lambda row: row['Age']/max_age if not pd.isnull(row['Age']) else 0, axis=1)    \n",
    "    dfc = df.drop(['HomePlanet', 'CryoSleep', 'Cabin', 'Destination', 'Age', 'VIP'], axis=1)\n",
    "    \n",
    "    X = dfc.loc[:, (dfc.columns != 'Transported') & (dfc.columns != 'PassengerId') & (dfc.columns != 'Name')]\n",
    "    xcols = list(X.columns)\n",
    "    if 'Transported' in list(dfc.columns):\n",
    "        Y = dfc[['Transported', 'PassengerId', 'Name']]\n",
    "    else:\n",
    "        Y = dfc[['PassengerId', 'Name']]\n",
    "        \n",
    "    imputer = KNNImputer()\n",
    "    imputer.fit(X)\n",
    "    Xtrans = imputer.transform(X)\n",
    "    xtrans_df = pd.DataFrame(data=Xtrans, columns=xcols)\n",
    "    dfc = pd.concat([xtrans_df, Y], axis=1)\n",
    "    dfc['RoomService'].fillna(0, inplace=True)\n",
    "    dfc['roomservice'] = dfc['RoomService'] / max(dfc['RoomService'].values)\n",
    "    dfc['FoodCourt'].fillna(0, inplace=True)\n",
    "    dfc['foodcourt'] = dfc['FoodCourt'] / max(dfc['FoodCourt'].values)\n",
    "    dfc['ShoppingMall'].fillna(0, inplace=True)\n",
    "    dfc['shoppingmall'] = dfc['ShoppingMall'] / max(dfc['ShoppingMall'].values)\n",
    "    dfc['Spa'].fillna(0, inplace=True)\n",
    "    dfc['spa'] = dfc['Spa'] / max(dfc['Spa'].values)\n",
    "    dfc['VRDeck'].fillna(0, inplace=True)\n",
    "    dfc['vrdeck'] = dfc['VRDeck'] / max(dfc['VRDeck'].values)\n",
    "    dfc = dfc.drop(['RoomService', 'FoodCourt', 'ShoppingMall', 'Spa', 'VRDeck', 'Name'], axis=1)\n",
    "    \n",
    "    return dfc"
   ]
  },
  {
   "cell_type": "markdown",
   "id": "902768da",
   "metadata": {},
   "source": [
    "# The Models - exploring models"
   ]
  },
  {
   "cell_type": "code",
   "execution_count": 7,
   "id": "2592825a",
   "metadata": {},
   "outputs": [],
   "source": [
    "from xgboost import XGBClassifier\n",
    "from sklearn.model_selection import train_test_split\n",
    "from sklearn.metrics import accuracy_score"
   ]
  },
  {
   "cell_type": "code",
   "execution_count": 8,
   "id": "d7cbdfc3",
   "metadata": {},
   "outputs": [],
   "source": [
    "test_size = 0.25"
   ]
  },
  {
   "cell_type": "markdown",
   "id": "330f5ca8",
   "metadata": {},
   "source": [
    "### The Data columns split"
   ]
  },
  {
   "cell_type": "code",
   "execution_count": null,
   "id": "b039d893",
   "metadata": {},
   "outputs": [],
   "source": [
    "X, Y, df_id = get_train_data_transform_rev1()"
   ]
  },
  {
   "cell_type": "markdown",
   "id": "49b99278",
   "metadata": {},
   "source": [
    "## Training"
   ]
  },
  {
   "cell_type": "code",
   "execution_count": null,
   "id": "70e73270",
   "metadata": {},
   "outputs": [],
   "source": [
    "X_train, X_test, y_train, y_test = train_test_split(X, Y, test_size=test_size)\n",
    "model = XGBClassifier(n_estimators=65, num_parallel_tree=40)  # , num_parallel_tree=10)  #, n_jobs=100)"
   ]
  },
  {
   "cell_type": "code",
   "execution_count": 69,
   "id": "b04e6e5c",
   "metadata": {},
   "outputs": [
    {
     "data": {
      "text/plain": [
       "{'objective': 'binary:logistic',\n",
       " 'use_label_encoder': None,\n",
       " 'base_score': None,\n",
       " 'booster': None,\n",
       " 'callbacks': None,\n",
       " 'colsample_bylevel': None,\n",
       " 'colsample_bynode': None,\n",
       " 'colsample_bytree': None,\n",
       " 'early_stopping_rounds': None,\n",
       " 'enable_categorical': False,\n",
       " 'eval_metric': None,\n",
       " 'feature_types': None,\n",
       " 'gamma': None,\n",
       " 'gpu_id': None,\n",
       " 'grow_policy': None,\n",
       " 'importance_type': None,\n",
       " 'interaction_constraints': None,\n",
       " 'learning_rate': None,\n",
       " 'max_bin': None,\n",
       " 'max_cat_threshold': None,\n",
       " 'max_cat_to_onehot': None,\n",
       " 'max_delta_step': None,\n",
       " 'max_depth': None,\n",
       " 'max_leaves': None,\n",
       " 'min_child_weight': None,\n",
       " 'missing': nan,\n",
       " 'monotone_constraints': None,\n",
       " 'n_estimators': 100,\n",
       " 'n_jobs': None,\n",
       " 'num_parallel_tree': None,\n",
       " 'predictor': None,\n",
       " 'random_state': None,\n",
       " 'reg_alpha': None,\n",
       " 'reg_lambda': None,\n",
       " 'sampling_method': None,\n",
       " 'scale_pos_weight': None,\n",
       " 'subsample': None,\n",
       " 'tree_method': None,\n",
       " 'validate_parameters': None,\n",
       " 'verbosity': None}"
      ]
     },
     "execution_count": 69,
     "metadata": {},
     "output_type": "execute_result"
    }
   ],
   "source": [
    "XGBClassifier().get_params()"
   ]
  },
  {
   "cell_type": "code",
   "execution_count": null,
   "id": "aded4454",
   "metadata": {},
   "outputs": [],
   "source": [
    "model.fit(X_train, y_train)"
   ]
  },
  {
   "cell_type": "markdown",
   "id": "2e134748",
   "metadata": {},
   "source": [
    "## Model Predictions"
   ]
  },
  {
   "cell_type": "code",
   "execution_count": null,
   "id": "bd25ea7e",
   "metadata": {},
   "outputs": [],
   "source": [
    "y_pred = model.predict(X_test)\n",
    "predictions = [round(value) for value in y_pred]"
   ]
  },
  {
   "cell_type": "code",
   "execution_count": null,
   "id": "2332e603",
   "metadata": {},
   "outputs": [],
   "source": [
    "accuracy = accuracy_score(y_test, predictions)\n",
    "print(\"Accuracy: %.2f%%\" % (accuracy * 100.0))"
   ]
  },
  {
   "cell_type": "code",
   "execution_count": null,
   "id": "6a826db5",
   "metadata": {},
   "outputs": [],
   "source": [
    "for i in range(10):\n",
    "    X_train, X_test, y_train, y_test = train_test_split(X, Y, test_size=test_size)\n",
    "    model.fit(X_train, y_train)\n",
    "    y_pred = model.predict(X_test)\n",
    "    predictions = [round(value) for value in y_pred]\n",
    "    accuracy = accuracy_score(y_test, predictions)\n",
    "    print(\"Accuracy: %.2f%%\" % (accuracy * 100.0))    "
   ]
  },
  {
   "cell_type": "markdown",
   "id": "e140b5a5",
   "metadata": {},
   "source": [
    "## Version 2"
   ]
  },
  {
   "cell_type": "code",
   "execution_count": null,
   "id": "4650e855",
   "metadata": {},
   "outputs": [],
   "source": [
    "X2, Y2, df_id = get_train_data_transform_rev2()"
   ]
  },
  {
   "cell_type": "code",
   "execution_count": null,
   "id": "f3ee6a9e",
   "metadata": {},
   "outputs": [],
   "source": [
    "for i in range(10):\n",
    "    X_train, X_test, y_train, y_test = train_test_split(X2, Y2, test_size=test_size)\n",
    "    model.fit(X_train, y_train)\n",
    "    y_pred = model.predict(X_test)\n",
    "    predictions = [round(value) for value in y_pred]\n",
    "    accuracy = accuracy_score(y_test, predictions)\n",
    "    print(\"Accuracy: %.2f%%\" % (accuracy * 100.0))    "
   ]
  },
  {
   "cell_type": "markdown",
   "id": "283517a5",
   "metadata": {},
   "source": [
    "## Train-Validate with PCA"
   ]
  },
  {
   "cell_type": "code",
   "execution_count": null,
   "id": "3f049a36",
   "metadata": {},
   "outputs": [],
   "source": [
    "pca = PCA(n_components =0.9)\n",
    "Xt = pca.fit_transform(X)"
   ]
  },
  {
   "cell_type": "code",
   "execution_count": null,
   "id": "7394f131",
   "metadata": {},
   "outputs": [],
   "source": [
    "for i in range(10):\n",
    "    X_train, X_test, y_train, y_test = train_test_split(X2, Y2, test_size=test_size)\n",
    "    pca = PCA()\n",
    "    Xt = pca.fit_transform(X_train)\n",
    "    model.fit(Xt, y_train)\n",
    "    Xt_test = pca.transform(X_test)\n",
    "    y_pred = model.predict(Xt_test)\n",
    "    predictions = [round(value) for value in y_pred]\n",
    "    accuracy = accuracy_score(y_test, predictions)\n",
    "    print(\"Accuracy: %.2f%%\" % (accuracy * 100.0))    "
   ]
  },
  {
   "cell_type": "markdown",
   "id": "0e3d6e9b",
   "metadata": {},
   "source": [
    "## Rev3"
   ]
  },
  {
   "cell_type": "code",
   "execution_count": null,
   "id": "3c4e01a8",
   "metadata": {},
   "outputs": [],
   "source": [
    "iso = IsolationForest(contamination=0.1)"
   ]
  },
  {
   "cell_type": "code",
   "execution_count": null,
   "id": "d44de8d6",
   "metadata": {},
   "outputs": [],
   "source": [
    "dfc2 = transform_data_rev2(df)\n",
    "dfd2 = dfc2.loc[:, dfc2.columns != 'PassengerId']  # passanger id should not be input for training\n",
    "X2 = dfd2.loc[:, dfd2.columns != 'Transported']\n",
    "Y2 = dfd2[['Transported']]"
   ]
  },
  {
   "cell_type": "code",
   "execution_count": null,
   "id": "65d78fd8",
   "metadata": {},
   "outputs": [],
   "source": [
    "len(X2)"
   ]
  },
  {
   "cell_type": "code",
   "execution_count": null,
   "id": "e4439522",
   "metadata": {},
   "outputs": [],
   "source": [
    "for i in range(10):\n",
    "    X_train_, X_test, y_train_, y_test = train_test_split(X2, Y2, test_size=test_size)\n",
    "    \n",
    "    yhat = iso.fit_predict(X_train_)\n",
    "    mask = yhat != -1\n",
    "    X_train, y_train = X_train_.loc[mask, :], y_train_.loc[mask, :]\n",
    "#     print(f\"pre rows: {y_train_.shape} ;  post rows: {len(X_train)}\")\n",
    "    \n",
    "    model.fit(X_train, y_train)\n",
    "    y_pred = model.predict(X_test)\n",
    "    predictions = [round(value) for value in y_pred]\n",
    "    accuracy = accuracy_score(y_test, predictions)\n",
    "    print(\"Accuracy: %.2f%%\" % (accuracy * 100.0))    "
   ]
  },
  {
   "cell_type": "markdown",
   "id": "65668193",
   "metadata": {},
   "source": [
    "#### Full Train"
   ]
  },
  {
   "cell_type": "code",
   "execution_count": null,
   "id": "4c74cd39",
   "metadata": {},
   "outputs": [],
   "source": [
    "yhat = iso.fit_predict(X2)\n",
    "mask = yhat != -1\n",
    "X2_train, y2_train = X2.loc[mask, :], Y2.loc[mask, :]\n",
    "model.fit(X2_train, y2_train)"
   ]
  },
  {
   "cell_type": "code",
   "execution_count": null,
   "id": "4eb88543",
   "metadata": {},
   "outputs": [],
   "source": [
    "X1, Y1, df_idt = get_train_data_transform_rev1()\n",
    "X2, Y2, df_idt = get_train_data_transform_rev2()\n",
    "X1_t, df_id = get_test_data_transform_rev1()\n",
    "X2_t, df_id = get_test_data_transform_rev2()"
   ]
  },
  {
   "cell_type": "code",
   "execution_count": null,
   "id": "95b197b6",
   "metadata": {},
   "outputs": [],
   "source": [
    "model1 = XGBClassifier(n_estimators=65, num_parallel_tree=40)  # , num_parallel_tree=10)  #, n_jobs=100)\n",
    "model2 = XGBClassifier(n_estimators=65, num_parallel_tree=40)  # , num_parallel_tree=10)  #, n_jobs=100)"
   ]
  },
  {
   "cell_type": "code",
   "execution_count": null,
   "id": "4deac313",
   "metadata": {},
   "outputs": [],
   "source": [
    "model1.fit(X1, Y1)\n",
    "model2.fit(X2, Y2)"
   ]
  },
  {
   "cell_type": "code",
   "execution_count": null,
   "id": "25a2520f",
   "metadata": {},
   "outputs": [],
   "source": [
    "y1_pred1 = model1.predict(X1_t)\n",
    "y1_pred2 = model1.predict(X2_t)\n",
    "y2_pred1 = model2.predict(X1_t)\n",
    "y2_pred2 = model2.predict(X2_t)"
   ]
  },
  {
   "cell_type": "code",
   "execution_count": null,
   "id": "f4510a60",
   "metadata": {},
   "outputs": [],
   "source": [
    "pred1_df1 = pd.DataFrame(data=y1_pred1, columns=['Transported'])\n",
    "pred1_df1['Transported'] = pred1_df1['Transported'].astype(bool)\n",
    "\n",
    "pred1_df2 = pd.DataFrame(data=y1_pred2, columns=['Transported'])\n",
    "pred1_df2['Transported'] = pred1_df2['Transported'].astype(bool)\n",
    "\n",
    "pred2_df1 = pd.DataFrame(data=y2_pred1, columns=['Transported'])\n",
    "pred2_df1['Transported'] = pred2_df1['Transported'].astype(bool)\n",
    "\n",
    "pred2_df2 = pd.DataFrame(data=y2_pred2, columns=['Transported'])\n",
    "pred2_df2['Transported'] = pred2_df2['Transported'].astype(bool)"
   ]
  },
  {
   "cell_type": "code",
   "execution_count": null,
   "id": "fcfea789",
   "metadata": {},
   "outputs": [],
   "source": [
    "df1_test1 = pd.concat([df_id, pred1_df1], axis=1)\n",
    "df1_test2 = pd.concat([df_id, pred1_df2], axis=1)\n",
    "df2_test1 = pd.concat([df_id, pred2_df1], axis=1)\n",
    "df2_test2 = pd.concat([df_id, pred2_df2], axis=1)"
   ]
  },
  {
   "cell_type": "code",
   "execution_count": null,
   "id": "2bdc99e1",
   "metadata": {},
   "outputs": [],
   "source": [
    "df1_test1.to_csv(f\"xgboost11.csv\", index=False)\n",
    "df1_test2.to_csv(f\"xgboost12.csv\", index=False)\n",
    "df2_test1.to_csv(f\"xgboost21.csv\", index=False)\n",
    "df2_test2.to_csv(f\"xgboost22.csv\", index=False)"
   ]
  },
  {
   "cell_type": "markdown",
   "id": "9d91f40e",
   "metadata": {},
   "source": [
    "#  Models Predict\n",
    "## Ensemble"
   ]
  },
  {
   "cell_type": "code",
   "execution_count": 9,
   "id": "b89ba798",
   "metadata": {},
   "outputs": [],
   "source": [
    "from sklearn.ensemble import BaggingClassifier\n",
    "from sklearn.neighbors import KNeighborsClassifier\n",
    "from sklearn.ensemble import RandomForestClassifier\n",
    "from sklearn.ensemble import ExtraTreesClassifier\n",
    "from sklearn.tree import DecisionTreeClassifier\n",
    "from sklearn.ensemble import AdaBoostClassifier\n",
    "from sklearn.ensemble import GradientBoostingClassifier"
   ]
  },
  {
   "cell_type": "code",
   "execution_count": null,
   "id": "7721e948",
   "metadata": {},
   "outputs": [],
   "source": [
    "bagging_kn = BaggingClassifier(KNeighborsClassifier(), max_samples=0.5, max_features=0.5)\n",
    "bagging_kn = BaggingClassifier(DecisionTreeClassifier(), max_samples=0.5, max_features=0.5)\n",
    "bagging_ab = BaggingClassifier(AdaBoostClassifier(), max_samples=0.5, max_features=0.5)\n",
    "bagging_gb = BaggingClassifier(GradientBoostingClassifier(), max_samples=0.5, max_features=0.5)\n",
    "bagging_rf = BaggingClassifier(RandomForestClassifier(), max_samples=0.5, max_features=0.5)"
   ]
  },
  {
   "cell_type": "code",
   "execution_count": null,
   "id": "58e36a0e",
   "metadata": {},
   "outputs": [],
   "source": [
    "estimators1 = [('K-Neighbors', bagging_kn), ('Decision-Trees', bagging_kn), ('AdaBoost', bagging_ab), \n",
    "               ('Grad-Boost', bagging_gb), ('Random-Forest', bagging_rf)]\n",
    "estimators2 = [('K-Neighbors', bagging_kn), ('Decision-Trees', bagging_kn), ('AdaBoost', bagging_ab), \n",
    "               ('Grad-Boost', bagging_gb), ('Random-Forest', bagging_rf)]"
   ]
  },
  {
   "cell_type": "code",
   "execution_count": 10,
   "id": "36abbf4d",
   "metadata": {},
   "outputs": [],
   "source": [
    "import warnings\n",
    "warnings.filterwarnings('ignore')"
   ]
  },
  {
   "cell_type": "code",
   "execution_count": null,
   "id": "49166595",
   "metadata": {},
   "outputs": [],
   "source": [
    "X1, Y1, df_id = get_train_data_transform_rev1()\n",
    "X2, Y2, df_id = get_train_data_transform_rev2()"
   ]
  },
  {
   "cell_type": "code",
   "execution_count": null,
   "id": "6c5706a9",
   "metadata": {},
   "outputs": [],
   "source": [
    "for i in range(10):\n",
    "    X_train, X_test, y_train, y_test = train_test_split(X1, Y1, test_size=test_size)\n",
    "#     yhat = iso.fit_predict(X_train_)\n",
    "#     mask = yhat != -1\n",
    "#     X_train, y_train = X_train_.loc[mask, :], y_train_.loc[mask, :]\n",
    "    nn = []\n",
    "    for (name, estimator) in estimators1:\n",
    "        estimator.fit(X_train.values, y_train.values)\n",
    "        y_pred = estimator.predict(X_test.values)\n",
    "        accuracy = accuracy_score(y_test.values.reshape(len(y_test.values),), y_pred.reshape(len(y_pred),))\n",
    "        nn.append([name, round(accuracy * 100.0, 2)])\n",
    "    ss = [n[0]+\": \" + str(n[1]) + \"%\" for n in nn]\n",
    "    s = \"; \".join(ss)\n",
    "    print(s)"
   ]
  },
  {
   "cell_type": "code",
   "execution_count": null,
   "id": "925fb7be",
   "metadata": {},
   "outputs": [],
   "source": [
    "for i in range(10):\n",
    "    X_train, X_test, y_train, y_test = train_test_split(X2, Y2, test_size=test_size)\n",
    "    \n",
    "#     yhat = iso.fit_predict(X_train_)\n",
    "#     mask = yhat != -1\n",
    "#     X_train, y_train = X_train_.loc[mask, :], y_train_.loc[mask, :]\n",
    "    nn = []\n",
    "    for (name, estimator) in estimators2:\n",
    "        estimator.fit(X_train.values, y_train.values)\n",
    "        y_pred = estimator.predict(X_test.values)\n",
    "        accuracy = accuracy_score(y_test.values.reshape(len(y_test.values),), y_pred.reshape(len(y_pred),))\n",
    "        nn.append([name, round(accuracy * 100.0, 2)])\n",
    "    ss = [n[0]+\": \" + str(n[1]) + \"%\" for n in nn]\n",
    "    s = \"; \".join(ss)\n",
    "    print(s)"
   ]
  },
  {
   "cell_type": "code",
   "execution_count": null,
   "id": "637f2f9b",
   "metadata": {},
   "outputs": [],
   "source": [
    "X1_test, df_id = get_test_data_transform_rev1()\n",
    "X2_test, df_id = get_test_data_transform_rev2()"
   ]
  },
  {
   "cell_type": "code",
   "execution_count": null,
   "id": "da834477",
   "metadata": {
    "scrolled": true
   },
   "outputs": [],
   "source": [
    "dft = pd.read_csv(files[1])  # the test data\n",
    "dfct = transform_data(dft)\n",
    "pass_id = dfct[['PassengerId']]\n",
    "dfdt = dfct.loc[:, dfct.columns != 'PassengerId']  # passanger id should not be input for training\n",
    "X_test = dfdt\n",
    "print(len(X_test))"
   ]
  },
  {
   "cell_type": "code",
   "execution_count": null,
   "id": "465ef39a",
   "metadata": {},
   "outputs": [],
   "source": [
    "for (name, estimator) in estimators1:\n",
    "    print(f\"Start fitting {name}.\")\n",
    "    estimator.fit(X1.values, Y1.values)\n",
    "    print(f\"Done fitting {name}, now starting prediction of test.\")\n",
    "    \n",
    "    y_pred = estimator.predict(X1_test.values)\n",
    "    print(f\"Done test prediction of {name}, now processing.\")\n",
    "    predictions = y_pred  # [round(value[0]) for value in y_pred]\n",
    "    pred_df = pd.DataFrame(data=predictions, columns=['Transported'])\n",
    "    pred_df['Transported'] = pred_df['Transported'].astype(bool)\n",
    "    df_test = pd.concat([df_id, pred_df], axis=1)\n",
    "    df_test.to_csv(f\"submit_test revb1_test1 {name}.csv\", index=False)\n",
    "\n",
    "    y_pred = estimator.predict(X2_test.values)\n",
    "    print(f\"Done test prediction of {name}, now processing.\")\n",
    "    predictions = y_pred  # [round(value[0]) for value in y_pred]\n",
    "    pred_df = pd.DataFrame(data=predictions, columns=['Transported'])\n",
    "    pred_df['Transported'] = pred_df['Transported'].astype(bool)\n",
    "    df_test = pd.concat([df_id, pred_df], axis=1)\n",
    "    df_test.to_csv(f\"submit_test revb1_test2 {name}.csv\", index=False)    "
   ]
  },
  {
   "cell_type": "code",
   "execution_count": null,
   "id": "69396858",
   "metadata": {},
   "outputs": [],
   "source": [
    "for (name, estimator) in estimators2:\n",
    "    print(f\"Start fitting {name}.\")\n",
    "    estimator.fit(X2.values, Y2.values)\n",
    "    print(f\"Done fitting {name}, now starting prediction of test.\")\n",
    "    \n",
    "    y_pred = estimator.predict(X1_test.values)\n",
    "    print(f\"Done test prediction of {name}, now processing.\")\n",
    "    predictions = y_pred  # [round(value[0]) for value in y_pred]\n",
    "    pred_df = pd.DataFrame(data=predictions, columns=['Transported'])\n",
    "    pred_df['Transported'] = pred_df['Transported'].astype(bool)\n",
    "    df_test = pd.concat([df_id, pred_df], axis=1)\n",
    "    df_test.to_csv(f\"submit_test revb2_test1 {name}.csv\", index=False)\n",
    "\n",
    "    y_pred = estimator.predict(X2_test.values)\n",
    "    print(f\"Done test prediction of {name}, now processing.\")\n",
    "    predictions = y_pred  # [round(value[0]) for value in y_pred]\n",
    "    pred_df = pd.DataFrame(data=predictions, columns=['Transported'])\n",
    "    pred_df['Transported'] = pred_df['Transported'].astype(bool)\n",
    "    df_test = pd.concat([df_id, pred_df], axis=1)\n",
    "    df_test.to_csv(f\"submit_test revb2_test2 {name}.csv\", index=False)    "
   ]
  },
  {
   "cell_type": "code",
   "execution_count": null,
   "id": "d49db888",
   "metadata": {},
   "outputs": [],
   "source": [
    "# dft = pd.read_csv(files[1])  # the test data\n",
    "# dfct = transform_data(dft)\n",
    "# dfdt = dfct.loc[:, dfct.columns != 'PassengerId']  # passanger id should not be input for training\n",
    "# X2 = dfdt\n",
    "# print(len(X2))\n",
    "\n",
    "# y_pred = model2.predict(X2)\n",
    "# predictions = [round(value[0]) for value in y_pred]\n",
    "# len(predictions)\n",
    "\n",
    "# pass_id = dfct[['PassengerId']]\n",
    "# pred_df = pd.DataFrame(data=predictions, columns=['Transported'])\n",
    "# pred_df['Transported'] = pred_df['Transported'].astype(bool)\n",
    "# df_test = pd.concat([pass_id, pred_df], axis=1)\n",
    "\n",
    "# df_test.to_csv('submit_test rev6 nn full train.csv', index=False)"
   ]
  },
  {
   "cell_type": "markdown",
   "id": "d4b4b058",
   "metadata": {},
   "source": [
    "## NN Model"
   ]
  },
  {
   "cell_type": "code",
   "execution_count": null,
   "id": "ddb6e8a5",
   "metadata": {},
   "outputs": [],
   "source": [
    "import tensorflow as tf\n",
    "from tensorflow.keras.layers import Dense\n",
    "from tensorflow.keras import Model\n",
    "from tensorflow.keras import Input"
   ]
  },
  {
   "cell_type": "code",
   "execution_count": null,
   "id": "3a641b72",
   "metadata": {},
   "outputs": [],
   "source": [
    "# x_in = Input(shape=(20,))\n",
    "# x1 = Dense(64)(x_in)\n",
    "# x2 = Dense(32)(x1)\n",
    "# x3 = Dense(16)(x2)\n",
    "# x_out = Dense(1)(x3)\n",
    "# model = Model(inputs=x_in, outputs=x_out)\n",
    "\n",
    "model = tf.keras.Sequential()\n",
    "model.add(Dense(64, activation='relu', kernel_initializer='he_normal', input_shape=(20,)))\n",
    "model.add(Dense(32, activation='relu', kernel_initializer='he_normal'))\n",
    "model.add(Dense(16, activation='relu', kernel_initializer='he_normal'))\n",
    "model.add(Dense(8, activation='relu', kernel_initializer='he_normal'))\n",
    "model.add(Dense(1, activation='sigmoid'))\n",
    "# model.compile(optimizer='adam', loss='binary_crossentropy', metrics=['accuracy'])\n",
    "model.compile(optimizer=tf.keras.optimizers.Adam(learning_rate=2e-4), loss='binary_crossentropy', metrics=['accuracy'])"
   ]
  },
  {
   "cell_type": "code",
   "execution_count": null,
   "id": "742a150f",
   "metadata": {},
   "outputs": [],
   "source": [
    "nn_model1 = tf.keras.Sequential()\n",
    "nn_model1.add(Dense(64, activation='relu', kernel_initializer='he_normal', input_shape=(20,)))\n",
    "nn_model1.add(Dense(32, activation='relu', kernel_initializer='he_normal'))\n",
    "nn_model1.add(Dense(16, activation='relu', kernel_initializer='he_normal'))\n",
    "nn_model1.add(Dense(8, activation='relu', kernel_initializer='he_normal'))\n",
    "nn_model1.add(Dense(1, activation='sigmoid'))\n",
    "# model.compile(optimizer='adam', loss='binary_crossentropy', metrics=['accuracy'])\n",
    "nn_model1.compile(optimizer=tf.keras.optimizers.Adam(learning_rate=2e-4), loss='binary_crossentropy', metrics=['accuracy'])"
   ]
  },
  {
   "cell_type": "code",
   "execution_count": null,
   "id": "1fc2da55",
   "metadata": {},
   "outputs": [],
   "source": [
    "nn_model2 = tf.keras.Sequential()\n",
    "nn_model2.add(Dense(64, activation='relu', kernel_initializer='he_normal', input_shape=(20,)))\n",
    "nn_model2.add(Dense(32, activation='relu', kernel_initializer='he_normal'))\n",
    "nn_model2.add(Dense(16, activation='relu', kernel_initializer='he_normal'))\n",
    "nn_model2.add(Dense(8, activation='relu', kernel_initializer='he_normal'))\n",
    "nn_model2.add(Dense(1, activation='sigmoid'))\n",
    "nn_model2.compile(optimizer=tf.keras.optimizers.Adam(learning_rate=2e-4), loss='binary_crossentropy', metrics=['accuracy'])"
   ]
  },
  {
   "cell_type": "code",
   "execution_count": null,
   "id": "f9dacca5",
   "metadata": {},
   "outputs": [],
   "source": [
    "X1, Y1, df_id = get_train_data_transform_rev1()\n",
    "X2, Y2, df_id = get_train_data_transform_rev2()"
   ]
  },
  {
   "cell_type": "code",
   "execution_count": null,
   "id": "65a29e99",
   "metadata": {
    "scrolled": true
   },
   "outputs": [],
   "source": [
    "nn_model1.fit(X1, Y1, epochs=400, batch_size=32, verbose=1)"
   ]
  },
  {
   "cell_type": "code",
   "execution_count": null,
   "id": "537ecbc3",
   "metadata": {
    "scrolled": true
   },
   "outputs": [],
   "source": [
    "nn_model2.fit(X2, Y2, epochs=400, batch_size=32, verbose=1)"
   ]
  },
  {
   "cell_type": "code",
   "execution_count": null,
   "id": "a4fba913",
   "metadata": {},
   "outputs": [],
   "source": [
    "X1_t, df_id = get_test_data_transform_rev1()\n",
    "X2_t, df_id = get_test_data_transform_rev2()"
   ]
  },
  {
   "cell_type": "code",
   "execution_count": null,
   "id": "4ee0b5fe",
   "metadata": {},
   "outputs": [],
   "source": [
    "y1_pred1 = nn_model1.predict(X1_t)\n",
    "y1_pred2 = nn_model1.predict(X2_t)\n",
    "y2_pred1 = nn_model2.predict(X1_t)\n",
    "y2_pred2 = nn_model2.predict(X2_t)"
   ]
  },
  {
   "cell_type": "code",
   "execution_count": null,
   "id": "0ffc3a71",
   "metadata": {},
   "outputs": [],
   "source": [
    "predictions11 = [round(value[0]) for value in y1_pred1]\n",
    "predictions12 = [round(value[0]) for value in y1_pred2]\n",
    "predictions21 = [round(value[0]) for value in y2_pred1]\n",
    "predictions22 = [round(value[0]) for value in y2_pred2]"
   ]
  },
  {
   "cell_type": "code",
   "execution_count": null,
   "id": "905481f5",
   "metadata": {},
   "outputs": [],
   "source": [
    "pred1_df1 = pd.DataFrame(data=predictions11, columns=['Transported'])\n",
    "pred1_df2 = pd.DataFrame(data=predictions12, columns=['Transported'])\n",
    "pred2_df1 = pd.DataFrame(data=predictions21, columns=['Transported'])\n",
    "pred2_df2 = pd.DataFrame(data=predictions22, columns=['Transported'])"
   ]
  },
  {
   "cell_type": "code",
   "execution_count": null,
   "id": "f9b3fa89",
   "metadata": {},
   "outputs": [],
   "source": [
    "pred1_df1['Transported'] = pred1_df1['Transported'].astype(bool)\n",
    "pred1_df2['Transported'] = pred1_df2['Transported'].astype(bool)\n",
    "pred2_df1['Transported'] = pred2_df1['Transported'].astype(bool)\n",
    "pred2_df2['Transported'] = pred2_df2['Transported'].astype(bool)"
   ]
  },
  {
   "cell_type": "code",
   "execution_count": null,
   "id": "4e33b815",
   "metadata": {},
   "outputs": [],
   "source": [
    "df1_test1 = pd.concat([df_id, pred1_df1], axis=1)\n",
    "df1_test2 = pd.concat([df_id, pred1_df2], axis=1)\n",
    "df2_test1 = pd.concat([df_id, pred2_df1], axis=1)\n",
    "df2_test2 = pd.concat([df_id, pred2_df2], axis=1)"
   ]
  },
  {
   "cell_type": "code",
   "execution_count": null,
   "id": "c110a998",
   "metadata": {},
   "outputs": [],
   "source": [
    "df1_test1.to_csv('submit nn11.csv', index=False)\n",
    "df1_test2.to_csv('submit nn12.csv', index=False)\n",
    "df2_test1.to_csv('submit nn21.csv', index=False)\n",
    "df2_test2.to_csv('submit nn22.csv', index=False)"
   ]
  },
  {
   "cell_type": "code",
   "execution_count": null,
   "id": "d822271c",
   "metadata": {},
   "outputs": [],
   "source": [
    "yhat = iso.fit_predict(X2)\n",
    "mask = yhat != -1\n",
    "outies = yhat == -1\n",
    "# X_train, y_train = X_train_.loc[mask, :], y_train_.loc[mask, :]"
   ]
  },
  {
   "cell_type": "code",
   "execution_count": null,
   "id": "15548917",
   "metadata": {},
   "outputs": [],
   "source": [
    "estimator.fit(X2.values, Y2.values)"
   ]
  },
  {
   "cell_type": "code",
   "execution_count": null,
   "id": "896150b3",
   "metadata": {},
   "outputs": [],
   "source": [
    "X_outies, Y_outies = X2.loc[outies, :], Y2.loc[outies, :]\n",
    "X_inies, Y_inies = X2.loc[mask, :], Y2.loc[mask, :]"
   ]
  },
  {
   "cell_type": "code",
   "execution_count": null,
   "id": "507acda0",
   "metadata": {},
   "outputs": [],
   "source": [
    "len(X_outies)"
   ]
  },
  {
   "cell_type": "code",
   "execution_count": null,
   "id": "2eca2b91",
   "metadata": {},
   "outputs": [],
   "source": [
    "len(X_inies)"
   ]
  },
  {
   "cell_type": "code",
   "execution_count": null,
   "id": "3866af29",
   "metadata": {},
   "outputs": [],
   "source": [
    "xgb_model_ins = XGBClassifier(n_estimators=70)  # , num_parallel_tree=10)  #, n_jobs=100)\n",
    "xgb_model_ins.fit(X_inies, Y_inies)\n",
    "xgb_model_outs = XGBClassifier(n_estimators=70)  # , num_parallel_tree=10)  #, n_jobs=100)\n",
    "xgb_model_outs.fit(X_outies, Y_outies)\n",
    "# y_pred = xgb_model_ins.predict(X_test)\n",
    "# predictions = [round(value) for value in y_pred]\n"
   ]
  },
  {
   "cell_type": "code",
   "execution_count": null,
   "id": "535d53d9",
   "metadata": {},
   "outputs": [],
   "source": [
    "dft = pd.read_csv(files[1])  # the test data\n",
    "dfct = transform_data_rev2(dft)\n",
    "dfdt = dfct.loc[:, dfct.columns != 'PassengerId']  # passanger id should not be input for training\n",
    "X2t = dfdt\n",
    "print(len(X2t))"
   ]
  },
  {
   "cell_type": "code",
   "execution_count": null,
   "id": "af6bbb34",
   "metadata": {},
   "outputs": [],
   "source": [
    "yhat_t = iso.predict(X2t)\n",
    "mask_t = yhat_t != -1\n",
    "outies_t = yhat_t == -1"
   ]
  },
  {
   "cell_type": "code",
   "execution_count": null,
   "id": "940203d6",
   "metadata": {},
   "outputs": [],
   "source": [
    "x_test_ins = X2t.loc[mask_t, :]\n",
    "x_test_outs = X2t.loc[outies_t, :]"
   ]
  },
  {
   "cell_type": "code",
   "execution_count": null,
   "id": "975c14be",
   "metadata": {},
   "outputs": [],
   "source": [
    "y_pred_ins = xgb_model_ins.predict(x_test_ins)\n",
    "y_pred_outs = xgb_model_outs.predict(x_test_outs)"
   ]
  },
  {
   "cell_type": "code",
   "execution_count": null,
   "id": "75394c04",
   "metadata": {},
   "outputs": [],
   "source": [
    "dfcta = dfct[['PassengerId']]\n",
    "pass_id_ins = dfcta.loc[mask_t, :]\n",
    "pass_id_outs = dfcta.loc[outies_t, :]\n",
    "\n",
    "pred_df_ins = pd.DataFrame(data=pass_id_ins, columns=['Transported'])\n",
    "pred_df_ins['Transported'] = pred_df_ins['Transported'].astype(bool)\n",
    "df_test_ins = pd.concat([pass_id_ins, pred_df_ins], axis=1)\n",
    "\n",
    "pred_df_outs = pd.DataFrame(data=pass_id_outs, columns=['Transported'])\n",
    "pred_df_outs['Transported'] = pred_df_outs['Transported'].astype(bool)\n",
    "df_test_outs = pd.concat([pass_id_outs, pred_df_outs], axis=1)"
   ]
  },
  {
   "cell_type": "code",
   "execution_count": null,
   "id": "7287b3a2",
   "metadata": {},
   "outputs": [],
   "source": [
    "df_test_ins.to_csv('..\\\\revA\\\\xgboost_ins.csv', index=False)\n",
    "df_test_outs.to_csv('..\\\\revA\\\\xgboost_outs.csv', index=False)"
   ]
  },
  {
   "cell_type": "code",
   "execution_count": null,
   "id": "87a2554a",
   "metadata": {},
   "outputs": [],
   "source": []
  },
  {
   "cell_type": "markdown",
   "id": "895869f1",
   "metadata": {},
   "source": [
    "# Testing iso"
   ]
  },
  {
   "cell_type": "code",
   "execution_count": null,
   "id": "8b617cd5",
   "metadata": {},
   "outputs": [],
   "source": [
    "dfc2"
   ]
  },
  {
   "cell_type": "code",
   "execution_count": null,
   "id": "2ef9b9b4",
   "metadata": {},
   "outputs": [],
   "source": [
    "iso2 = IsolationForest(contamination=0.1)\n",
    "yhat = iso2.fit_predict(dfc2)\n",
    "mask = yhat != -1\n",
    "outies = yhat == -1"
   ]
  },
  {
   "cell_type": "code",
   "execution_count": null,
   "id": "ecc9119a",
   "metadata": {},
   "outputs": [],
   "source": [
    "outliers_train = dfc2[outies]\n",
    "outliers_train['Transported'] = outliers_train['Transported'].astype(int)"
   ]
  },
  {
   "cell_type": "code",
   "execution_count": null,
   "id": "2deea0e2",
   "metadata": {},
   "outputs": [],
   "source": [
    "outliers_train.to_csv('..\\\\outliers_iso_train.csv', index=False)"
   ]
  },
  {
   "cell_type": "code",
   "execution_count": null,
   "id": "0bee531d",
   "metadata": {},
   "outputs": [],
   "source": []
  },
  {
   "cell_type": "code",
   "execution_count": null,
   "id": "cb570686",
   "metadata": {},
   "outputs": [],
   "source": [
    "dtale.show(outliers_train)"
   ]
  },
  {
   "cell_type": "code",
   "execution_count": null,
   "id": "e7cc5dcb",
   "metadata": {},
   "outputs": [],
   "source": [
    "ddff = dfc2\n",
    "ddff['Transported'] = ddff['Transported'].astype(int)"
   ]
  },
  {
   "cell_type": "code",
   "execution_count": null,
   "id": "36b8e7ca",
   "metadata": {
    "scrolled": true
   },
   "outputs": [],
   "source": [
    "dtale.show(ddff)"
   ]
  },
  {
   "cell_type": "markdown",
   "id": "cb2b093d",
   "metadata": {},
   "source": [
    "# Lazy Predict"
   ]
  },
  {
   "cell_type": "code",
   "execution_count": 34,
   "id": "46835eda",
   "metadata": {},
   "outputs": [],
   "source": [
    "import lazypredict\n",
    "from lazypredict.Supervised import LazyClassifier"
   ]
  },
  {
   "cell_type": "code",
   "execution_count": 35,
   "id": "948c0473",
   "metadata": {},
   "outputs": [],
   "source": [
    "X1, Y1, df_id = get_train_data_transform_rev1()\n",
    "X2, Y2, df_id = get_train_data_transform_rev2()"
   ]
  },
  {
   "cell_type": "code",
   "execution_count": 36,
   "id": "fee18b31",
   "metadata": {},
   "outputs": [
    {
     "name": "stderr",
     "output_type": "stream",
     "text": [
      "100%|██████████████████████████████████████████████████████████████████████████████████| 29/29 [00:10<00:00,  2.87it/s]\n"
     ]
    }
   ],
   "source": [
    "X_train, X_test, y_train, y_test = train_test_split(X1, Y1, test_size=.5,random_state =123)\n",
    "clf = LazyClassifier(verbose=0,ignore_warnings=True, custom_metric=None)\n",
    "models,predictions = clf.fit(X_train, X_test, y_train, y_test)"
   ]
  },
  {
   "cell_type": "code",
   "execution_count": 37,
   "id": "e9764702",
   "metadata": {},
   "outputs": [
    {
     "data": {
      "text/html": [
       "<div>\n",
       "<style scoped>\n",
       "    .dataframe tbody tr th:only-of-type {\n",
       "        vertical-align: middle;\n",
       "    }\n",
       "\n",
       "    .dataframe tbody tr th {\n",
       "        vertical-align: top;\n",
       "    }\n",
       "\n",
       "    .dataframe thead th {\n",
       "        text-align: right;\n",
       "    }\n",
       "</style>\n",
       "<table border=\"1\" class=\"dataframe\">\n",
       "  <thead>\n",
       "    <tr style=\"text-align: right;\">\n",
       "      <th></th>\n",
       "      <th>Accuracy</th>\n",
       "      <th>Balanced Accuracy</th>\n",
       "      <th>ROC AUC</th>\n",
       "      <th>F1 Score</th>\n",
       "      <th>Time Taken</th>\n",
       "    </tr>\n",
       "    <tr>\n",
       "      <th>Model</th>\n",
       "      <th></th>\n",
       "      <th></th>\n",
       "      <th></th>\n",
       "      <th></th>\n",
       "      <th></th>\n",
       "    </tr>\n",
       "  </thead>\n",
       "  <tbody>\n",
       "    <tr>\n",
       "      <th>LGBMClassifier</th>\n",
       "      <td>0.81</td>\n",
       "      <td>0.81</td>\n",
       "      <td>0.81</td>\n",
       "      <td>0.81</td>\n",
       "      <td>0.12</td>\n",
       "    </tr>\n",
       "    <tr>\n",
       "      <th>RandomForestClassifier</th>\n",
       "      <td>0.81</td>\n",
       "      <td>0.81</td>\n",
       "      <td>0.81</td>\n",
       "      <td>0.81</td>\n",
       "      <td>0.41</td>\n",
       "    </tr>\n",
       "    <tr>\n",
       "      <th>XGBClassifier</th>\n",
       "      <td>0.80</td>\n",
       "      <td>0.80</td>\n",
       "      <td>0.80</td>\n",
       "      <td>0.80</td>\n",
       "      <td>0.81</td>\n",
       "    </tr>\n",
       "    <tr>\n",
       "      <th>LogisticRegression</th>\n",
       "      <td>0.80</td>\n",
       "      <td>0.80</td>\n",
       "      <td>0.80</td>\n",
       "      <td>0.80</td>\n",
       "      <td>0.03</td>\n",
       "    </tr>\n",
       "    <tr>\n",
       "      <th>SVC</th>\n",
       "      <td>0.80</td>\n",
       "      <td>0.80</td>\n",
       "      <td>0.80</td>\n",
       "      <td>0.80</td>\n",
       "      <td>1.22</td>\n",
       "    </tr>\n",
       "    <tr>\n",
       "      <th>AdaBoostClassifier</th>\n",
       "      <td>0.80</td>\n",
       "      <td>0.80</td>\n",
       "      <td>0.80</td>\n",
       "      <td>0.80</td>\n",
       "      <td>0.20</td>\n",
       "    </tr>\n",
       "    <tr>\n",
       "      <th>ExtraTreesClassifier</th>\n",
       "      <td>0.80</td>\n",
       "      <td>0.80</td>\n",
       "      <td>0.80</td>\n",
       "      <td>0.80</td>\n",
       "      <td>0.40</td>\n",
       "    </tr>\n",
       "    <tr>\n",
       "      <th>NuSVC</th>\n",
       "      <td>0.80</td>\n",
       "      <td>0.80</td>\n",
       "      <td>0.80</td>\n",
       "      <td>0.80</td>\n",
       "      <td>1.33</td>\n",
       "    </tr>\n",
       "    <tr>\n",
       "      <th>CalibratedClassifierCV</th>\n",
       "      <td>0.80</td>\n",
       "      <td>0.80</td>\n",
       "      <td>0.80</td>\n",
       "      <td>0.80</td>\n",
       "      <td>0.69</td>\n",
       "    </tr>\n",
       "    <tr>\n",
       "      <th>LinearSVC</th>\n",
       "      <td>0.80</td>\n",
       "      <td>0.80</td>\n",
       "      <td>0.80</td>\n",
       "      <td>0.80</td>\n",
       "      <td>0.22</td>\n",
       "    </tr>\n",
       "    <tr>\n",
       "      <th>BaggingClassifier</th>\n",
       "      <td>0.79</td>\n",
       "      <td>0.79</td>\n",
       "      <td>0.79</td>\n",
       "      <td>0.79</td>\n",
       "      <td>0.14</td>\n",
       "    </tr>\n",
       "    <tr>\n",
       "      <th>RidgeClassifierCV</th>\n",
       "      <td>0.78</td>\n",
       "      <td>0.78</td>\n",
       "      <td>0.78</td>\n",
       "      <td>0.78</td>\n",
       "      <td>0.02</td>\n",
       "    </tr>\n",
       "    <tr>\n",
       "      <th>RidgeClassifier</th>\n",
       "      <td>0.78</td>\n",
       "      <td>0.78</td>\n",
       "      <td>0.78</td>\n",
       "      <td>0.78</td>\n",
       "      <td>0.02</td>\n",
       "    </tr>\n",
       "    <tr>\n",
       "      <th>LinearDiscriminantAnalysis</th>\n",
       "      <td>0.78</td>\n",
       "      <td>0.78</td>\n",
       "      <td>0.78</td>\n",
       "      <td>0.78</td>\n",
       "      <td>0.06</td>\n",
       "    </tr>\n",
       "    <tr>\n",
       "      <th>KNeighborsClassifier</th>\n",
       "      <td>0.77</td>\n",
       "      <td>0.77</td>\n",
       "      <td>0.77</td>\n",
       "      <td>0.77</td>\n",
       "      <td>0.52</td>\n",
       "    </tr>\n",
       "    <tr>\n",
       "      <th>SGDClassifier</th>\n",
       "      <td>0.77</td>\n",
       "      <td>0.77</td>\n",
       "      <td>0.77</td>\n",
       "      <td>0.77</td>\n",
       "      <td>0.03</td>\n",
       "    </tr>\n",
       "    <tr>\n",
       "      <th>Perceptron</th>\n",
       "      <td>0.77</td>\n",
       "      <td>0.77</td>\n",
       "      <td>0.77</td>\n",
       "      <td>0.77</td>\n",
       "      <td>0.02</td>\n",
       "    </tr>\n",
       "    <tr>\n",
       "      <th>NearestCentroid</th>\n",
       "      <td>0.76</td>\n",
       "      <td>0.76</td>\n",
       "      <td>0.76</td>\n",
       "      <td>0.76</td>\n",
       "      <td>0.01</td>\n",
       "    </tr>\n",
       "    <tr>\n",
       "      <th>BernoulliNB</th>\n",
       "      <td>0.75</td>\n",
       "      <td>0.75</td>\n",
       "      <td>0.75</td>\n",
       "      <td>0.75</td>\n",
       "      <td>0.02</td>\n",
       "    </tr>\n",
       "    <tr>\n",
       "      <th>DecisionTreeClassifier</th>\n",
       "      <td>0.74</td>\n",
       "      <td>0.74</td>\n",
       "      <td>0.74</td>\n",
       "      <td>0.74</td>\n",
       "      <td>0.03</td>\n",
       "    </tr>\n",
       "    <tr>\n",
       "      <th>LabelSpreading</th>\n",
       "      <td>0.74</td>\n",
       "      <td>0.74</td>\n",
       "      <td>0.74</td>\n",
       "      <td>0.74</td>\n",
       "      <td>2.29</td>\n",
       "    </tr>\n",
       "    <tr>\n",
       "      <th>LabelPropagation</th>\n",
       "      <td>0.74</td>\n",
       "      <td>0.74</td>\n",
       "      <td>0.74</td>\n",
       "      <td>0.74</td>\n",
       "      <td>1.43</td>\n",
       "    </tr>\n",
       "    <tr>\n",
       "      <th>ExtraTreeClassifier</th>\n",
       "      <td>0.74</td>\n",
       "      <td>0.74</td>\n",
       "      <td>0.74</td>\n",
       "      <td>0.74</td>\n",
       "      <td>0.02</td>\n",
       "    </tr>\n",
       "    <tr>\n",
       "      <th>PassiveAggressiveClassifier</th>\n",
       "      <td>0.74</td>\n",
       "      <td>0.73</td>\n",
       "      <td>0.73</td>\n",
       "      <td>0.73</td>\n",
       "      <td>0.02</td>\n",
       "    </tr>\n",
       "    <tr>\n",
       "      <th>GaussianNB</th>\n",
       "      <td>0.62</td>\n",
       "      <td>0.61</td>\n",
       "      <td>0.61</td>\n",
       "      <td>0.56</td>\n",
       "      <td>0.02</td>\n",
       "    </tr>\n",
       "    <tr>\n",
       "      <th>QuadraticDiscriminantAnalysis</th>\n",
       "      <td>0.57</td>\n",
       "      <td>0.57</td>\n",
       "      <td>0.57</td>\n",
       "      <td>0.48</td>\n",
       "      <td>0.02</td>\n",
       "    </tr>\n",
       "    <tr>\n",
       "      <th>DummyClassifier</th>\n",
       "      <td>0.51</td>\n",
       "      <td>0.50</td>\n",
       "      <td>0.50</td>\n",
       "      <td>0.34</td>\n",
       "      <td>0.01</td>\n",
       "    </tr>\n",
       "  </tbody>\n",
       "</table>\n",
       "</div>"
      ],
      "text/plain": [
       "                               Accuracy  Balanced Accuracy  ROC AUC  F1 Score  \\\n",
       "Model                                                                           \n",
       "LGBMClassifier                     0.81               0.81     0.81      0.81   \n",
       "RandomForestClassifier             0.81               0.81     0.81      0.81   \n",
       "XGBClassifier                      0.80               0.80     0.80      0.80   \n",
       "LogisticRegression                 0.80               0.80     0.80      0.80   \n",
       "SVC                                0.80               0.80     0.80      0.80   \n",
       "AdaBoostClassifier                 0.80               0.80     0.80      0.80   \n",
       "ExtraTreesClassifier               0.80               0.80     0.80      0.80   \n",
       "NuSVC                              0.80               0.80     0.80      0.80   \n",
       "CalibratedClassifierCV             0.80               0.80     0.80      0.80   \n",
       "LinearSVC                          0.80               0.80     0.80      0.80   \n",
       "BaggingClassifier                  0.79               0.79     0.79      0.79   \n",
       "RidgeClassifierCV                  0.78               0.78     0.78      0.78   \n",
       "RidgeClassifier                    0.78               0.78     0.78      0.78   \n",
       "LinearDiscriminantAnalysis         0.78               0.78     0.78      0.78   \n",
       "KNeighborsClassifier               0.77               0.77     0.77      0.77   \n",
       "SGDClassifier                      0.77               0.77     0.77      0.77   \n",
       "Perceptron                         0.77               0.77     0.77      0.77   \n",
       "NearestCentroid                    0.76               0.76     0.76      0.76   \n",
       "BernoulliNB                        0.75               0.75     0.75      0.75   \n",
       "DecisionTreeClassifier             0.74               0.74     0.74      0.74   \n",
       "LabelSpreading                     0.74               0.74     0.74      0.74   \n",
       "LabelPropagation                   0.74               0.74     0.74      0.74   \n",
       "ExtraTreeClassifier                0.74               0.74     0.74      0.74   \n",
       "PassiveAggressiveClassifier        0.74               0.73     0.73      0.73   \n",
       "GaussianNB                         0.62               0.61     0.61      0.56   \n",
       "QuadraticDiscriminantAnalysis      0.57               0.57     0.57      0.48   \n",
       "DummyClassifier                    0.51               0.50     0.50      0.34   \n",
       "\n",
       "                               Time Taken  \n",
       "Model                                      \n",
       "LGBMClassifier                       0.12  \n",
       "RandomForestClassifier               0.41  \n",
       "XGBClassifier                        0.81  \n",
       "LogisticRegression                   0.03  \n",
       "SVC                                  1.22  \n",
       "AdaBoostClassifier                   0.20  \n",
       "ExtraTreesClassifier                 0.40  \n",
       "NuSVC                                1.33  \n",
       "CalibratedClassifierCV               0.69  \n",
       "LinearSVC                            0.22  \n",
       "BaggingClassifier                    0.14  \n",
       "RidgeClassifierCV                    0.02  \n",
       "RidgeClassifier                      0.02  \n",
       "LinearDiscriminantAnalysis           0.06  \n",
       "KNeighborsClassifier                 0.52  \n",
       "SGDClassifier                        0.03  \n",
       "Perceptron                           0.02  \n",
       "NearestCentroid                      0.01  \n",
       "BernoulliNB                          0.02  \n",
       "DecisionTreeClassifier               0.03  \n",
       "LabelSpreading                       2.29  \n",
       "LabelPropagation                     1.43  \n",
       "ExtraTreeClassifier                  0.02  \n",
       "PassiveAggressiveClassifier          0.02  \n",
       "GaussianNB                           0.02  \n",
       "QuadraticDiscriminantAnalysis        0.02  \n",
       "DummyClassifier                      0.01  "
      ]
     },
     "execution_count": 37,
     "metadata": {},
     "output_type": "execute_result"
    }
   ],
   "source": [
    "models"
   ]
  },
  {
   "cell_type": "code",
   "execution_count": 38,
   "id": "c14e8c02",
   "metadata": {},
   "outputs": [
    {
     "name": "stderr",
     "output_type": "stream",
     "text": [
      "100%|██████████████████████████████████████████████████████████████████████████████████| 29/29 [00:09<00:00,  3.11it/s]\n"
     ]
    }
   ],
   "source": [
    "X_train, X_test, y_train, y_test = train_test_split(X2, Y2, test_size=.5,random_state =123)\n",
    "clf2 = LazyClassifier(verbose=0,ignore_warnings=True, custom_metric=None)\n",
    "models2, predictions2 = clf2.fit(X_train, X_test, y_train, y_test)"
   ]
  },
  {
   "cell_type": "code",
   "execution_count": 39,
   "id": "77fcbb3f",
   "metadata": {},
   "outputs": [
    {
     "data": {
      "text/html": [
       "<div>\n",
       "<style scoped>\n",
       "    .dataframe tbody tr th:only-of-type {\n",
       "        vertical-align: middle;\n",
       "    }\n",
       "\n",
       "    .dataframe tbody tr th {\n",
       "        vertical-align: top;\n",
       "    }\n",
       "\n",
       "    .dataframe thead th {\n",
       "        text-align: right;\n",
       "    }\n",
       "</style>\n",
       "<table border=\"1\" class=\"dataframe\">\n",
       "  <thead>\n",
       "    <tr style=\"text-align: right;\">\n",
       "      <th></th>\n",
       "      <th>Accuracy</th>\n",
       "      <th>Balanced Accuracy</th>\n",
       "      <th>ROC AUC</th>\n",
       "      <th>F1 Score</th>\n",
       "      <th>Time Taken</th>\n",
       "    </tr>\n",
       "    <tr>\n",
       "      <th>Model</th>\n",
       "      <th></th>\n",
       "      <th></th>\n",
       "      <th></th>\n",
       "      <th></th>\n",
       "      <th></th>\n",
       "    </tr>\n",
       "  </thead>\n",
       "  <tbody>\n",
       "    <tr>\n",
       "      <th>LGBMClassifier</th>\n",
       "      <td>0.81</td>\n",
       "      <td>0.81</td>\n",
       "      <td>0.81</td>\n",
       "      <td>0.81</td>\n",
       "      <td>0.10</td>\n",
       "    </tr>\n",
       "    <tr>\n",
       "      <th>RandomForestClassifier</th>\n",
       "      <td>0.81</td>\n",
       "      <td>0.81</td>\n",
       "      <td>0.81</td>\n",
       "      <td>0.81</td>\n",
       "      <td>0.41</td>\n",
       "    </tr>\n",
       "    <tr>\n",
       "      <th>AdaBoostClassifier</th>\n",
       "      <td>0.80</td>\n",
       "      <td>0.80</td>\n",
       "      <td>0.80</td>\n",
       "      <td>0.80</td>\n",
       "      <td>0.23</td>\n",
       "    </tr>\n",
       "    <tr>\n",
       "      <th>ExtraTreesClassifier</th>\n",
       "      <td>0.80</td>\n",
       "      <td>0.80</td>\n",
       "      <td>0.80</td>\n",
       "      <td>0.80</td>\n",
       "      <td>0.39</td>\n",
       "    </tr>\n",
       "    <tr>\n",
       "      <th>LogisticRegression</th>\n",
       "      <td>0.80</td>\n",
       "      <td>0.80</td>\n",
       "      <td>0.80</td>\n",
       "      <td>0.80</td>\n",
       "      <td>0.03</td>\n",
       "    </tr>\n",
       "    <tr>\n",
       "      <th>NuSVC</th>\n",
       "      <td>0.80</td>\n",
       "      <td>0.80</td>\n",
       "      <td>0.80</td>\n",
       "      <td>0.80</td>\n",
       "      <td>1.36</td>\n",
       "    </tr>\n",
       "    <tr>\n",
       "      <th>XGBClassifier</th>\n",
       "      <td>0.80</td>\n",
       "      <td>0.80</td>\n",
       "      <td>0.80</td>\n",
       "      <td>0.80</td>\n",
       "      <td>0.19</td>\n",
       "    </tr>\n",
       "    <tr>\n",
       "      <th>SVC</th>\n",
       "      <td>0.80</td>\n",
       "      <td>0.80</td>\n",
       "      <td>0.80</td>\n",
       "      <td>0.80</td>\n",
       "      <td>1.22</td>\n",
       "    </tr>\n",
       "    <tr>\n",
       "      <th>CalibratedClassifierCV</th>\n",
       "      <td>0.80</td>\n",
       "      <td>0.80</td>\n",
       "      <td>0.80</td>\n",
       "      <td>0.80</td>\n",
       "      <td>0.72</td>\n",
       "    </tr>\n",
       "    <tr>\n",
       "      <th>LinearSVC</th>\n",
       "      <td>0.80</td>\n",
       "      <td>0.80</td>\n",
       "      <td>0.80</td>\n",
       "      <td>0.80</td>\n",
       "      <td>0.22</td>\n",
       "    </tr>\n",
       "    <tr>\n",
       "      <th>BaggingClassifier</th>\n",
       "      <td>0.79</td>\n",
       "      <td>0.79</td>\n",
       "      <td>0.79</td>\n",
       "      <td>0.79</td>\n",
       "      <td>0.12</td>\n",
       "    </tr>\n",
       "    <tr>\n",
       "      <th>RidgeClassifierCV</th>\n",
       "      <td>0.78</td>\n",
       "      <td>0.78</td>\n",
       "      <td>0.78</td>\n",
       "      <td>0.78</td>\n",
       "      <td>0.02</td>\n",
       "    </tr>\n",
       "    <tr>\n",
       "      <th>RidgeClassifier</th>\n",
       "      <td>0.78</td>\n",
       "      <td>0.78</td>\n",
       "      <td>0.78</td>\n",
       "      <td>0.78</td>\n",
       "      <td>0.02</td>\n",
       "    </tr>\n",
       "    <tr>\n",
       "      <th>LinearDiscriminantAnalysis</th>\n",
       "      <td>0.78</td>\n",
       "      <td>0.78</td>\n",
       "      <td>0.78</td>\n",
       "      <td>0.78</td>\n",
       "      <td>0.03</td>\n",
       "    </tr>\n",
       "    <tr>\n",
       "      <th>KNeighborsClassifier</th>\n",
       "      <td>0.77</td>\n",
       "      <td>0.77</td>\n",
       "      <td>0.77</td>\n",
       "      <td>0.77</td>\n",
       "      <td>0.49</td>\n",
       "    </tr>\n",
       "    <tr>\n",
       "      <th>SGDClassifier</th>\n",
       "      <td>0.76</td>\n",
       "      <td>0.76</td>\n",
       "      <td>0.76</td>\n",
       "      <td>0.76</td>\n",
       "      <td>0.03</td>\n",
       "    </tr>\n",
       "    <tr>\n",
       "      <th>NearestCentroid</th>\n",
       "      <td>0.76</td>\n",
       "      <td>0.76</td>\n",
       "      <td>0.76</td>\n",
       "      <td>0.76</td>\n",
       "      <td>0.01</td>\n",
       "    </tr>\n",
       "    <tr>\n",
       "      <th>BernoulliNB</th>\n",
       "      <td>0.75</td>\n",
       "      <td>0.75</td>\n",
       "      <td>0.75</td>\n",
       "      <td>0.75</td>\n",
       "      <td>0.02</td>\n",
       "    </tr>\n",
       "    <tr>\n",
       "      <th>DecisionTreeClassifier</th>\n",
       "      <td>0.75</td>\n",
       "      <td>0.75</td>\n",
       "      <td>0.75</td>\n",
       "      <td>0.75</td>\n",
       "      <td>0.03</td>\n",
       "    </tr>\n",
       "    <tr>\n",
       "      <th>PassiveAggressiveClassifier</th>\n",
       "      <td>0.74</td>\n",
       "      <td>0.74</td>\n",
       "      <td>0.74</td>\n",
       "      <td>0.74</td>\n",
       "      <td>0.02</td>\n",
       "    </tr>\n",
       "    <tr>\n",
       "      <th>LabelSpreading</th>\n",
       "      <td>0.74</td>\n",
       "      <td>0.74</td>\n",
       "      <td>0.74</td>\n",
       "      <td>0.74</td>\n",
       "      <td>2.23</td>\n",
       "    </tr>\n",
       "    <tr>\n",
       "      <th>LabelPropagation</th>\n",
       "      <td>0.74</td>\n",
       "      <td>0.74</td>\n",
       "      <td>0.74</td>\n",
       "      <td>0.74</td>\n",
       "      <td>1.38</td>\n",
       "    </tr>\n",
       "    <tr>\n",
       "      <th>ExtraTreeClassifier</th>\n",
       "      <td>0.73</td>\n",
       "      <td>0.73</td>\n",
       "      <td>0.73</td>\n",
       "      <td>0.73</td>\n",
       "      <td>0.02</td>\n",
       "    </tr>\n",
       "    <tr>\n",
       "      <th>Perceptron</th>\n",
       "      <td>0.69</td>\n",
       "      <td>0.69</td>\n",
       "      <td>0.69</td>\n",
       "      <td>0.69</td>\n",
       "      <td>0.01</td>\n",
       "    </tr>\n",
       "    <tr>\n",
       "      <th>GaussianNB</th>\n",
       "      <td>0.62</td>\n",
       "      <td>0.61</td>\n",
       "      <td>0.61</td>\n",
       "      <td>0.56</td>\n",
       "      <td>0.02</td>\n",
       "    </tr>\n",
       "    <tr>\n",
       "      <th>QuadraticDiscriminantAnalysis</th>\n",
       "      <td>0.57</td>\n",
       "      <td>0.57</td>\n",
       "      <td>0.57</td>\n",
       "      <td>0.48</td>\n",
       "      <td>0.02</td>\n",
       "    </tr>\n",
       "    <tr>\n",
       "      <th>DummyClassifier</th>\n",
       "      <td>0.51</td>\n",
       "      <td>0.50</td>\n",
       "      <td>0.50</td>\n",
       "      <td>0.34</td>\n",
       "      <td>0.01</td>\n",
       "    </tr>\n",
       "  </tbody>\n",
       "</table>\n",
       "</div>"
      ],
      "text/plain": [
       "                               Accuracy  Balanced Accuracy  ROC AUC  F1 Score  \\\n",
       "Model                                                                           \n",
       "LGBMClassifier                     0.81               0.81     0.81      0.81   \n",
       "RandomForestClassifier             0.81               0.81     0.81      0.81   \n",
       "AdaBoostClassifier                 0.80               0.80     0.80      0.80   \n",
       "ExtraTreesClassifier               0.80               0.80     0.80      0.80   \n",
       "LogisticRegression                 0.80               0.80     0.80      0.80   \n",
       "NuSVC                              0.80               0.80     0.80      0.80   \n",
       "XGBClassifier                      0.80               0.80     0.80      0.80   \n",
       "SVC                                0.80               0.80     0.80      0.80   \n",
       "CalibratedClassifierCV             0.80               0.80     0.80      0.80   \n",
       "LinearSVC                          0.80               0.80     0.80      0.80   \n",
       "BaggingClassifier                  0.79               0.79     0.79      0.79   \n",
       "RidgeClassifierCV                  0.78               0.78     0.78      0.78   \n",
       "RidgeClassifier                    0.78               0.78     0.78      0.78   \n",
       "LinearDiscriminantAnalysis         0.78               0.78     0.78      0.78   \n",
       "KNeighborsClassifier               0.77               0.77     0.77      0.77   \n",
       "SGDClassifier                      0.76               0.76     0.76      0.76   \n",
       "NearestCentroid                    0.76               0.76     0.76      0.76   \n",
       "BernoulliNB                        0.75               0.75     0.75      0.75   \n",
       "DecisionTreeClassifier             0.75               0.75     0.75      0.75   \n",
       "PassiveAggressiveClassifier        0.74               0.74     0.74      0.74   \n",
       "LabelSpreading                     0.74               0.74     0.74      0.74   \n",
       "LabelPropagation                   0.74               0.74     0.74      0.74   \n",
       "ExtraTreeClassifier                0.73               0.73     0.73      0.73   \n",
       "Perceptron                         0.69               0.69     0.69      0.69   \n",
       "GaussianNB                         0.62               0.61     0.61      0.56   \n",
       "QuadraticDiscriminantAnalysis      0.57               0.57     0.57      0.48   \n",
       "DummyClassifier                    0.51               0.50     0.50      0.34   \n",
       "\n",
       "                               Time Taken  \n",
       "Model                                      \n",
       "LGBMClassifier                       0.10  \n",
       "RandomForestClassifier               0.41  \n",
       "AdaBoostClassifier                   0.23  \n",
       "ExtraTreesClassifier                 0.39  \n",
       "LogisticRegression                   0.03  \n",
       "NuSVC                                1.36  \n",
       "XGBClassifier                        0.19  \n",
       "SVC                                  1.22  \n",
       "CalibratedClassifierCV               0.72  \n",
       "LinearSVC                            0.22  \n",
       "BaggingClassifier                    0.12  \n",
       "RidgeClassifierCV                    0.02  \n",
       "RidgeClassifier                      0.02  \n",
       "LinearDiscriminantAnalysis           0.03  \n",
       "KNeighborsClassifier                 0.49  \n",
       "SGDClassifier                        0.03  \n",
       "NearestCentroid                      0.01  \n",
       "BernoulliNB                          0.02  \n",
       "DecisionTreeClassifier               0.03  \n",
       "PassiveAggressiveClassifier          0.02  \n",
       "LabelSpreading                       2.23  \n",
       "LabelPropagation                     1.38  \n",
       "ExtraTreeClassifier                  0.02  \n",
       "Perceptron                           0.01  \n",
       "GaussianNB                           0.02  \n",
       "QuadraticDiscriminantAnalysis        0.02  \n",
       "DummyClassifier                      0.01  "
      ]
     },
     "execution_count": 39,
     "metadata": {},
     "output_type": "execute_result"
    }
   ],
   "source": [
    "models2"
   ]
  },
  {
   "cell_type": "code",
   "execution_count": 59,
   "id": "11577b8c",
   "metadata": {},
   "outputs": [],
   "source": [
    "X1_t, df_id = get_test_data_transform_rev1()\n",
    "X2_t, df_id = get_test_data_transform_rev2()"
   ]
  },
  {
   "cell_type": "code",
   "execution_count": 45,
   "id": "44b32bdd",
   "metadata": {},
   "outputs": [],
   "source": [
    "from lightgbm import LGBMClassifier"
   ]
  },
  {
   "cell_type": "code",
   "execution_count": null,
   "id": "f646b7a9",
   "metadata": {},
   "outputs": [],
   "source": [
    "lgtbm_model1 = LGBMClassifier()\n",
    "lgtbm_model2 = LGBMClassifier()"
   ]
  },
  {
   "cell_type": "code",
   "execution_count": null,
   "id": "9d2858db",
   "metadata": {},
   "outputs": [],
   "source": [
    "lgtbm_model1.fit(X1, Y1)\n",
    "lgtbm_model2.fit(X2, Y2)"
   ]
  },
  {
   "cell_type": "code",
   "execution_count": null,
   "id": "a212db1f",
   "metadata": {},
   "outputs": [],
   "source": [
    "lgtbm1_pred1 = lgtbm_model1.predict(X1_t)\n",
    "lgtbm1_pred2 = lgtbm_model1.predict(X2_t)\n",
    "lgtbm2_pred1 = lgtbm_model2.predict(X1_t)\n",
    "lgtbm2_pred2 = lgtbm_model2.predict(X2_t)"
   ]
  },
  {
   "cell_type": "code",
   "execution_count": null,
   "id": "cfad0bcb",
   "metadata": {},
   "outputs": [],
   "source": [
    "pred1_df1 = pd.DataFrame(data=lgtbm1_pred1, columns=['Transported'])\n",
    "pred1_df1['Transported'] = pred1_df1['Transported'].astype(bool)\n",
    "df1_test1 = pd.concat([df_id, pred1_df1], axis=1)\n",
    "df1_test1.to_csv('lgtbm11.csv', index=False)\n",
    "\n",
    "pred1_df2 = pd.DataFrame(data=lgtbm1_pred2, columns=['Transported'])\n",
    "pred1_df2['Transported'] = pred1_df2['Transported'].astype(bool)\n",
    "df1_test2 = pd.concat([df_id, pred1_df2], axis=1)\n",
    "df1_test2.to_csv('lgtbm12.csv', index=False)\n",
    "\n",
    "\n",
    "pred2_df1 = pd.DataFrame(data=lgtbm2_pred1, columns=['Transported'])\n",
    "pred2_df1['Transported'] = pred2_df1['Transported'].astype(bool)\n",
    "df2_test1 = pd.concat([df_id, pred2_df1], axis=1)\n",
    "df2_test1.to_csv('lgtbm21.csv', index=False)\n",
    "\n",
    "pred2_df2 = pd.DataFrame(data=lgtbm2_pred2, columns=['Transported'])\n",
    "pred2_df2['Transported'] = pred2_df2['Transported'].astype(bool)\n",
    "df2_test2 = pd.concat([df_id, pred2_df2], axis=1)\n",
    "df2_test2.to_csv('lgtbm22.csv', index=False)"
   ]
  },
  {
   "cell_type": "code",
   "execution_count": 68,
   "id": "42d44388",
   "metadata": {},
   "outputs": [],
   "source": [
    "lgbm_model_t = LGBMClassifier(reg_lambda=0.013, reg_alpha=0.0, n_estimators=220, learning_rate=0.13, \n",
    "                              importance_type='split', class_weight=None, boosting_type='dart')\n",
    "lgbm_model_t.fit(X1, Y1)\n",
    "lgbm_pred = lgbm_model_t.predict(X2_t)\n",
    "pred_df = pd.DataFrame(data=lgbm_pred, columns=['Transported'])\n",
    "pred_df['Transported'] = pred_df['Transported'].astype(bool)\n",
    "df_test = pd.concat([df_id, pred_df], axis=1)\n",
    "df_test.to_csv('..\\\\Spaceship Titanic\\\\LGBM1_tuned2_rev1.csv', index=False)"
   ]
  },
  {
   "cell_type": "code",
   "execution_count": 64,
   "id": "4a616a4f",
   "metadata": {},
   "outputs": [],
   "source": [
    "rf_model_t = RandomForestClassifier(oob_score=True, n_estimators=215, min_samples_split=3, max_samples=0.9, \n",
    "                                    max_features='sqrt', criterion='entropy', class_weight='balanced_subsample')\n",
    "\n",
    "rf_model_t.fit(X1, Y1)\n",
    "rf_pred = rf_model_t.predict(X1_t)\n",
    "pred_df = pd.DataFrame(data=rf_pred, columns=['Transported'])\n",
    "pred_df['Transported'] = pred_df['Transported'].astype(bool)\n",
    "df_test = pd.concat([df_id, pred_df], axis=1)\n",
    "df_test.to_csv('..\\\\Spaceship Titanic\\\\RF_tuned_rev1.csv', index=False)"
   ]
  },
  {
   "cell_type": "markdown",
   "id": "d3b53aa9",
   "metadata": {},
   "source": [
    "# SEARCH: Hyper Parameters Tuning"
   ]
  },
  {
   "cell_type": "code",
   "execution_count": 11,
   "id": "470ec18a",
   "metadata": {},
   "outputs": [],
   "source": [
    "from scipy.stats import loguniform, rv_discrete\n",
    "from sklearn.model_selection import RepeatedStratifiedKFold\n",
    "from sklearn.model_selection import RandomizedSearchCV"
   ]
  },
  {
   "cell_type": "markdown",
   "id": "55285fff",
   "metadata": {},
   "source": [
    "### Model to search for"
   ]
  },
  {
   "cell_type": "code",
   "execution_count": 14,
   "id": "a8d25e8b",
   "metadata": {},
   "outputs": [],
   "source": [
    "model = RandomForestClassifier()\n",
    "cv = RepeatedStratifiedKFold(n_splits=10, n_repeats=3, random_state=1)"
   ]
  },
  {
   "cell_type": "code",
   "execution_count": 15,
   "id": "09bf7dd3",
   "metadata": {},
   "outputs": [
    {
     "data": {
      "text/plain": [
       "{'bootstrap': True,\n",
       " 'ccp_alpha': 0.0,\n",
       " 'class_weight': None,\n",
       " 'criterion': 'gini',\n",
       " 'max_depth': None,\n",
       " 'max_features': 'auto',\n",
       " 'max_leaf_nodes': None,\n",
       " 'max_samples': None,\n",
       " 'min_impurity_decrease': 0.0,\n",
       " 'min_impurity_split': None,\n",
       " 'min_samples_leaf': 1,\n",
       " 'min_samples_split': 2,\n",
       " 'min_weight_fraction_leaf': 0.0,\n",
       " 'n_estimators': 100,\n",
       " 'n_jobs': None,\n",
       " 'oob_score': False,\n",
       " 'random_state': None,\n",
       " 'verbose': 0,\n",
       " 'warm_start': False}"
      ]
     },
     "execution_count": 15,
     "metadata": {},
     "output_type": "execute_result"
    }
   ],
   "source": [
    "RandomForestClassifier().get_params()"
   ]
  },
  {
   "cell_type": "code",
   "execution_count": 28,
   "id": "2ee03320",
   "metadata": {},
   "outputs": [],
   "source": [
    "space = dict()\n",
    "space['n_estimators'] = np.arange(50,250,25)  # np.arange(50,600,25)\n",
    "space['criterion'] = [\"gini\", \"entropy\", \"log_loss\"]\n",
    "space['min_samples_split'] = [2, 4, 6]\n",
    "space['max_features'] = ['sqrt', 'log2', None]\n",
    "space['n_jobs'] = [4]\n",
    "space['class_weight'] = ['balanced', 'balanced_subsample']\n",
    "space['oob_score'] = [True, False]\n",
    "space['max_samples'] = np.arange(0.1,1.0,0.3)"
   ]
  },
  {
   "cell_type": "markdown",
   "id": "3833273c",
   "metadata": {},
   "source": [
    "#### Data"
   ]
  },
  {
   "cell_type": "code",
   "execution_count": 13,
   "id": "e263bd0d",
   "metadata": {},
   "outputs": [],
   "source": [
    "X1, Y1, df_id = get_train_data_transform_rev1()"
   ]
  },
  {
   "cell_type": "code",
   "execution_count": 30,
   "id": "9a02b384",
   "metadata": {},
   "outputs": [
    {
     "name": "stdout",
     "output_type": "stream",
     "text": [
      "Best Score: 0.8055145078017186\n",
      "Best Hyperparameters: {'oob_score': True, 'n_jobs': 4, 'n_estimators': 225, 'min_samples_split': 4, 'max_samples': 0.7000000000000001, 'max_features': 'sqrt', 'criterion': 'entropy', 'class_weight': 'balanced'}\n"
     ]
    }
   ],
   "source": [
    "search = RandomizedSearchCV(model, space, n_iter=500, scoring='accuracy', n_jobs=-1, cv=cv, random_state=1)\n",
    "result = search.fit(X1, Y1)\n",
    "print('Best Score: %s' % result.best_score_)\n",
    "print('Best Hyperparameters: %s' % result.best_params_)"
   ]
  },
  {
   "cell_type": "code",
   "execution_count": 32,
   "id": "b1e0e61d",
   "metadata": {},
   "outputs": [],
   "source": [
    "space = dict()\n",
    "space['n_estimators'] = [225]\n",
    "space['criterion'] = [\"gini\", \"entropy\", \"log_loss\"]\n",
    "space['min_samples_split'] = [2, 4, 6]\n",
    "space['max_features'] = ['sqrt', 'log2', None]\n",
    "space['n_jobs'] = [4]\n",
    "space['class_weight'] = ['balanced', 'balanced_subsample']\n",
    "space['oob_score'] = [True]\n",
    "space['max_samples'] = np.arange(0.1,1.0,0.1)"
   ]
  },
  {
   "cell_type": "code",
   "execution_count": 33,
   "id": "9d27056c",
   "metadata": {},
   "outputs": [
    {
     "name": "stdout",
     "output_type": "stream",
     "text": [
      "Best Score: 0.8063579487586471\n",
      "Best Hyperparameters: {'oob_score': True, 'n_jobs': 4, 'n_estimators': 225, 'min_samples_split': 4, 'max_samples': 0.9, 'max_features': 'log2', 'criterion': 'entropy', 'class_weight': 'balanced_subsample'}\n"
     ]
    }
   ],
   "source": [
    "search = RandomizedSearchCV(model, space, n_iter=500, scoring='accuracy', n_jobs=-1, cv=cv, random_state=1)\n",
    "result = search.fit(X1, Y1)\n",
    "print('Best Score: %s' % result.best_score_)\n",
    "print('Best Hyperparameters: %s' % result.best_params_)"
   ]
  },
  {
   "cell_type": "code",
   "execution_count": 41,
   "id": "c9b24509",
   "metadata": {},
   "outputs": [],
   "source": [
    "space = dict()\n",
    "space['n_estimators'] = [215, 225, 240]\n",
    "space['criterion'] = [\"entropy\"]\n",
    "space['min_samples_split'] = [3, 4, 5]\n",
    "space['max_features'] = ['sqrt', 'log2', None]\n",
    "space['n_jobs'] = [4]\n",
    "space['class_weight'] = ['balanced', 'balanced_subsample']\n",
    "space['oob_score'] = [True]\n",
    "space['max_samples'] = [0.9, 0.999]"
   ]
  },
  {
   "cell_type": "code",
   "execution_count": 42,
   "id": "e2afe80a",
   "metadata": {},
   "outputs": [
    {
     "name": "stdout",
     "output_type": "stream",
     "text": [
      "Best Score: 0.8067025558950482\n",
      "Best Hyperparameters: {'oob_score': True, 'n_jobs': 8, 'n_estimators': 215, 'min_samples_split': 3, 'max_samples': 0.9, 'max_features': 'sqrt', 'criterion': 'entropy', 'class_weight': 'balanced_subsample'}\n"
     ]
    }
   ],
   "source": [
    "search = RandomizedSearchCV(model, space, n_iter=500, scoring='accuracy', n_jobs=-1, cv=cv, random_state=1)\n",
    "result = search.fit(X1, Y1)\n",
    "print('Best Score: %s' % result.best_score_)\n",
    "print('Best Hyperparameters: %s' % result.best_params_)"
   ]
  },
  {
   "cell_type": "code",
   "execution_count": 54,
   "id": "53e39623",
   "metadata": {},
   "outputs": [],
   "source": [
    "space = dict()\n",
    "space['n_estimators'] = [190, 205, 215, 220]\n",
    "space['criterion'] = [\"entropy\"]\n",
    "space['min_samples_split'] = [2, 3, 4]\n",
    "space['max_features'] = ['sqrt', 'log2', None]\n",
    "space['n_jobs'] = [4]\n",
    "space['class_weight'] = ['balanced', 'balanced_subsample']\n",
    "space['oob_score'] = [True]\n",
    "space['max_samples'] = [0.8, 0.9, 0.999]"
   ]
  },
  {
   "cell_type": "code",
   "execution_count": 55,
   "id": "f0d5f519",
   "metadata": {},
   "outputs": [
    {
     "name": "stdout",
     "output_type": "stream",
     "text": [
      "Best Score: 0.8065492110101449\n",
      "Best Hyperparameters: {'oob_score': True, 'n_jobs': 4, 'n_estimators': 220, 'min_samples_split': 3, 'max_samples': 0.8, 'max_features': 'log2', 'criterion': 'entropy', 'class_weight': 'balanced'}\n"
     ]
    }
   ],
   "source": [
    "search = RandomizedSearchCV(model, space, n_iter=500, scoring='accuracy', n_jobs=-1, cv=cv, random_state=1)\n",
    "result = search.fit(X1, Y1)\n",
    "print('Best Score: %s' % result.best_score_)\n",
    "print('Best Hyperparameters: %s' % result.best_params_)"
   ]
  },
  {
   "cell_type": "code",
   "execution_count": 74,
   "id": "d40fa0a0",
   "metadata": {},
   "outputs": [],
   "source": [
    "space = dict()\n",
    "space['n_estimators'] = [1220, 225, 230, 240, 260]\n",
    "space['criterion'] = [\"entropy\"]\n",
    "space['min_samples_split'] = [3]\n",
    "space['max_features'] = ['sqrt', 'log2', None]\n",
    "space['n_jobs'] = [4]\n",
    "space['class_weight'] = ['balanced', 'balanced_subsample']\n",
    "space['oob_score'] = [True]\n",
    "space['max_samples'] = [0.5, 0.6, 0.7, 0.8, 0.9]"
   ]
  },
  {
   "cell_type": "code",
   "execution_count": 75,
   "id": "95cd6d94",
   "metadata": {},
   "outputs": [
    {
     "name": "stdout",
     "output_type": "stream",
     "text": [
      "Best Score: 0.8073163322443114\n",
      "Best Hyperparameters: {'oob_score': True, 'n_jobs': 4, 'n_estimators': 1220, 'min_samples_split': 3, 'max_samples': 0.9, 'max_features': 'sqrt', 'criterion': 'entropy', 'class_weight': 'balanced_subsample'}\n"
     ]
    }
   ],
   "source": [
    "search = RandomizedSearchCV(model, space, n_iter=1000, scoring='accuracy', n_jobs=-1, cv=cv, random_state=1)\n",
    "result = search.fit(X1, Y1)\n",
    "print('Best Score: %s' % result.best_score_)\n",
    "print('Best Hyperparameters: %s' % result.best_params_)"
   ]
  },
  {
   "cell_type": "markdown",
   "id": "3e9e61d0",
   "metadata": {},
   "source": [
    "#### LGBM hyper tuning"
   ]
  },
  {
   "cell_type": "code",
   "execution_count": 46,
   "id": "3f8a7114",
   "metadata": {},
   "outputs": [
    {
     "data": {
      "text/plain": [
       "{'boosting_type': 'gbdt',\n",
       " 'class_weight': None,\n",
       " 'colsample_bytree': 1.0,\n",
       " 'importance_type': 'split',\n",
       " 'learning_rate': 0.1,\n",
       " 'max_depth': -1,\n",
       " 'min_child_samples': 20,\n",
       " 'min_child_weight': 0.001,\n",
       " 'min_split_gain': 0.0,\n",
       " 'n_estimators': 100,\n",
       " 'n_jobs': -1,\n",
       " 'num_leaves': 31,\n",
       " 'objective': None,\n",
       " 'random_state': None,\n",
       " 'reg_alpha': 0.0,\n",
       " 'reg_lambda': 0.0,\n",
       " 'silent': 'warn',\n",
       " 'subsample': 1.0,\n",
       " 'subsample_for_bin': 200000,\n",
       " 'subsample_freq': 0}"
      ]
     },
     "execution_count": 46,
     "metadata": {},
     "output_type": "execute_result"
    }
   ],
   "source": [
    "LGBMClassifier().get_params()"
   ]
  },
  {
   "cell_type": "code",
   "execution_count": 47,
   "id": "fbcaf6e9",
   "metadata": {},
   "outputs": [],
   "source": [
    "lgbm_model = LGBMClassifier()"
   ]
  },
  {
   "cell_type": "code",
   "execution_count": 52,
   "id": "82e8830e",
   "metadata": {},
   "outputs": [],
   "source": [
    "space = dict()\n",
    "space['boosting_type'] = ['gbdt', 'dart', 'rf']\n",
    "space['learning_rate'] = [0.25, 0.15, 0.1, 0.05, 0.01, 0.005]\n",
    "space['n_estimators'] = [50, 60, 70, 80, 100, 200, 300]\n",
    "space['class_weight'] = [None, 'balanced']\n",
    "space['reg_alpha'] = [0.0, 0.01, 0.1, 0.2]\n",
    "space['reg_lambda'] = [0.0, 0.005, 0.01, 0.05, 0.1]\n",
    "space['n_jobs'] = [4]\n",
    "space['importance_type'] = ['split', 'gain']"
   ]
  },
  {
   "cell_type": "code",
   "execution_count": 53,
   "id": "9c31b1d5",
   "metadata": {},
   "outputs": [
    {
     "name": "stdout",
     "output_type": "stream",
     "text": [
      "Best Score: 0.8111509243460355\n",
      "Best Hyperparameters: {'reg_lambda': 0.01, 'reg_alpha': 0.0, 'n_jobs': 4, 'n_estimators': 200, 'learning_rate': 0.15, 'importance_type': 'split', 'class_weight': 'balanced', 'boosting_type': 'dart'}\n"
     ]
    }
   ],
   "source": [
    "search = RandomizedSearchCV(lgbm_model, space, n_iter=500, scoring='accuracy', n_jobs=-1, cv=cv, random_state=1)\n",
    "result = search.fit(X1, Y1)\n",
    "print('Best Score: %s' % result.best_score_)\n",
    "print('Best Hyperparameters: %s' % result.best_params_)"
   ]
  },
  {
   "cell_type": "code",
   "execution_count": 56,
   "id": "0db9c0ad",
   "metadata": {},
   "outputs": [],
   "source": [
    "space = dict()\n",
    "space['boosting_type'] = ['gbdt', 'dart', 'rf']\n",
    "space['learning_rate'] = [0.18, 0.17, 0.16, 0.15, 0.14, 0.13, 0.12]\n",
    "space['n_estimators'] = [180, 200, 220]\n",
    "space['class_weight'] = [None, 'balanced']\n",
    "space['reg_alpha'] = [0.0, 0.001]\n",
    "space['reg_lambda'] = [0.007, 0.01, 0.013]\n",
    "space['n_jobs'] = [4]\n",
    "space['importance_type'] = ['split', 'gain']"
   ]
  },
  {
   "cell_type": "code",
   "execution_count": 57,
   "id": "c26bc0d9",
   "metadata": {},
   "outputs": [
    {
     "name": "stdout",
     "output_type": "stream",
     "text": [
      "Best Score: 0.8122252644295419\n",
      "Best Hyperparameters: {'reg_lambda': 0.013, 'reg_alpha': 0.0, 'n_jobs': 4, 'n_estimators': 220, 'learning_rate': 0.13, 'importance_type': 'split', 'class_weight': None, 'boosting_type': 'dart'}\n"
     ]
    }
   ],
   "source": [
    "search = RandomizedSearchCV(lgbm_model, space, n_iter=500, scoring='accuracy', n_jobs=-1, cv=cv, random_state=1)\n",
    "result = search.fit(X1, Y1)\n",
    "print('Best Score: %s' % result.best_score_)\n",
    "print('Best Hyperparameters: %s' % result.best_params_)"
   ]
  },
  {
   "cell_type": "code",
   "execution_count": 72,
   "id": "8e071ae9",
   "metadata": {},
   "outputs": [],
   "source": [
    "space = dict()\n",
    "space['boosting_type'] = ['gbdt', 'dart', 'rf']\n",
    "space['learning_rate'] = [0.125, 0.13, 0.135]\n",
    "space['n_estimators'] = [220, 240, 260]\n",
    "space['class_weight'] = [None, 'balanced']\n",
    "space['reg_alpha'] = [0.0]\n",
    "space['reg_lambda'] = [0.013, 0.017, 0.02]\n",
    "space['n_jobs'] = [4]\n",
    "space['importance_type'] = ['split', 'gain']"
   ]
  },
  {
   "cell_type": "code",
   "execution_count": 73,
   "id": "e329c555",
   "metadata": {},
   "outputs": [
    {
     "name": "stdout",
     "output_type": "stream",
     "text": [
      "Best Score: 0.8122252644295419\n",
      "Best Hyperparameters: {'reg_lambda': 0.013, 'reg_alpha': 0.0, 'n_jobs': 4, 'n_estimators': 220, 'learning_rate': 0.13, 'importance_type': 'split', 'class_weight': None, 'boosting_type': 'dart'}\n"
     ]
    }
   ],
   "source": [
    "search = RandomizedSearchCV(lgbm_model, space, n_iter=1000, scoring='accuracy', n_jobs=-1, cv=cv, random_state=1)\n",
    "result = search.fit(X1, Y1)\n",
    "print('Best Score: %s' % result.best_score_)\n",
    "print('Best Hyperparameters: %s' % result.best_params_)"
   ]
  },
  {
   "cell_type": "code",
   "execution_count": null,
   "id": "59a17848",
   "metadata": {},
   "outputs": [],
   "source": []
  },
  {
   "cell_type": "markdown",
   "id": "4cd342f4",
   "metadata": {},
   "source": [
    "### LGBM: fit-predit tuned model"
   ]
  },
  {
   "cell_type": "code",
   "execution_count": 61,
   "id": "0eb0d0c4",
   "metadata": {},
   "outputs": [],
   "source": [
    "lgbm_model_t = LGBMClassifier(reg_lambda=0.013, reg_alpha=0.0, n_estimators=220, learning_rate=0.13, \n",
    "                              importance_type='split', class_weight=None, boosting_type='dart')"
   ]
  },
  {
   "cell_type": "code",
   "execution_count": null,
   "id": "2d2507e9",
   "metadata": {},
   "outputs": [],
   "source": []
  },
  {
   "cell_type": "code",
   "execution_count": null,
   "id": "41ba6a5d",
   "metadata": {},
   "outputs": [],
   "source": []
  },
  {
   "cell_type": "code",
   "execution_count": null,
   "id": "ab89d421",
   "metadata": {},
   "outputs": [],
   "source": []
  },
  {
   "cell_type": "code",
   "execution_count": null,
   "id": "8e1f0626",
   "metadata": {},
   "outputs": [],
   "source": []
  },
  {
   "cell_type": "code",
   "execution_count": null,
   "id": "810de701",
   "metadata": {},
   "outputs": [],
   "source": []
  },
  {
   "cell_type": "markdown",
   "id": "a342749e",
   "metadata": {},
   "source": [
    "# Selecting Folder and Ensemble Majority Decision"
   ]
  },
  {
   "cell_type": "code",
   "execution_count": 71,
   "id": "30457e6a",
   "metadata": {},
   "outputs": [
    {
     "name": "stdout",
     "output_type": "stream",
     "text": [
      "['C:\\\\ALEX\\\\Kaggle\\\\space_titanic\\\\..\\\\Spaceship Titanic\\\\ensemble8\\\\LGBM1_tuned1_rev1.csv', 'C:\\\\ALEX\\\\Kaggle\\\\space_titanic\\\\..\\\\Spaceship Titanic\\\\ensemble8\\\\majority_ensem_rev2.csv', 'C:\\\\ALEX\\\\Kaggle\\\\space_titanic\\\\..\\\\Spaceship Titanic\\\\ensemble8\\\\majority_ensem_rev3.csv', 'C:\\\\ALEX\\\\Kaggle\\\\space_titanic\\\\..\\\\Spaceship Titanic\\\\ensemble8\\\\majority_ensem_rev5.csv', 'C:\\\\ALEX\\\\Kaggle\\\\space_titanic\\\\..\\\\Spaceship Titanic\\\\ensemble8\\\\majority_ensem_rev6.csv', 'C:\\\\ALEX\\\\Kaggle\\\\space_titanic\\\\..\\\\Spaceship Titanic\\\\ensemble8\\\\majority_ensem_rev7.csv']\n"
     ]
    }
   ],
   "source": [
    "rev = '8'\n",
    "en_path = '..\\\\Spaceship Titanic\\\\ensemble' + rev\n",
    "out_file_path = '..\\\\Spaceship Titanic\\\\majority_ensem_rev' + rev +'.csv'\n",
    "\n",
    "dpath = os.path.join(os.getcwd(), en_path)\n",
    "files1 = os.listdir(dpath)\n",
    "files2 = [os.path.join(dpath, f) for f in files1]\n",
    "files_e = [f for f in files2 if os.path.isfile(f)]\n",
    "print(files_e)\n",
    "\n",
    "fnam = [fn.rsplit(\"\\\\\")[-1].split(\".\")[0] for fn in files_e]\n",
    "dfe = None\n",
    "for (file,m_name) in zip(files_e,fnam):\n",
    "    df = pd.read_csv(file)\n",
    "    if dfe is None:\n",
    "        dfe = df\n",
    "        dfe = dfe.rename(columns={\"Transported\": m_name})\n",
    "    else:\n",
    "        dfe[m_name] = df['Transported'].values\n",
    "\n",
    "dfe_sum = dfe.sum(axis=1)\n",
    "dfe_cnt = dfe.count(axis=1)\n",
    "dfe['sum'] = dfe_sum\n",
    "dfe['count'] = dfe_cnt\n",
    "dfe['Transported'] = 2 * dfe['sum'] >= dfe['count']\n",
    "dfe_f = dfe[['PassengerId', 'Transported']]\n",
    "dfe_f.to_csv(out_file_path, index=False)"
   ]
  },
  {
   "cell_type": "code",
   "execution_count": null,
   "id": "bdbaf8d0",
   "metadata": {},
   "outputs": [],
   "source": []
  },
  {
   "cell_type": "code",
   "execution_count": null,
   "id": "90d41def",
   "metadata": {},
   "outputs": [],
   "source": []
  },
  {
   "cell_type": "code",
   "execution_count": null,
   "id": "2c46b720",
   "metadata": {},
   "outputs": [],
   "source": []
  },
  {
   "cell_type": "code",
   "execution_count": null,
   "id": "285b9b77",
   "metadata": {},
   "outputs": [],
   "source": []
  }
 ],
 "metadata": {
  "kernelspec": {
   "display_name": "Python 3 (ipykernel)",
   "language": "python",
   "name": "python3"
  },
  "language_info": {
   "codemirror_mode": {
    "name": "ipython",
    "version": 3
   },
   "file_extension": ".py",
   "mimetype": "text/x-python",
   "name": "python",
   "nbconvert_exporter": "python",
   "pygments_lexer": "ipython3",
   "version": "3.9.7"
  }
 },
 "nbformat": 4,
 "nbformat_minor": 5
}
